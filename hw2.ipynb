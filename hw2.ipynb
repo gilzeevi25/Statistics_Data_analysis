{
 "cells": [
  {
   "cell_type": "markdown",
   "metadata": {},
   "source": [
    "### IDs:\n",
    "Insert yours IDs to the cell below"
   ]
  },
  {
   "cell_type": "markdown",
   "metadata": {},
   "source": [
    "ID #1: 203909320\n",
    "\n",
    "ID #2: 311132468\n"
   ]
  },
  {
   "cell_type": "markdown",
   "metadata": {},
   "source": [
    "## Read the following instructions carefully:\n",
    "\n",
    "1. This jupyter notebook contains all the step by step instructions needed for this exercise.\n",
    "1. You are free to add cells.\n",
    "1. Write your functions and your answers in this jupyter notebook only.\n",
    "1. Answers to theoretical questions should be written in **markdown cells (with $\\LaTeX$ support)**.\n",
    "1. Submit this jupyter notebook only using your ID as a filename. Not to use ZIP or RAR. For example, your Moodle submission file name should look like this (two id numbers): `123456789_987654321.ipynb`."
   ]
  },
  {
   "cell_type": "code",
   "execution_count": 1,
   "metadata": {},
   "outputs": [],
   "source": [
    "import numpy as np\n",
    "import pandas as pd\n",
    "import matplotlib.pyplot as plt\n",
    "import seaborn as sns\n",
    "from sklearn.datasets import load_boston\n",
    "from scipy import stats, optimize\n",
    "import warnings\n",
    "warnings.filterwarnings('ignore')"
   ]
  },
  {
   "cell_type": "markdown",
   "metadata": {},
   "source": [
    "### Question 1 - Data exploration and visialization - practical"
   ]
  },
  {
   "cell_type": "markdown",
   "metadata": {},
   "source": [
    "Load Boston dataset from sklearn.\n",
    "Explore the data. follow th instructions below and make sure to support your answers with proper outputs and plots.\n",
    "When plotting, pay close attention to the range of the axis, and include axis labels and a title for the figure.\n",
    "\n",
    "1. describe the dataset. How many samples does it contain? How many features? What isis the data type for each variable?\n",
    "2. Produce a histogram and a boxplot of the nitric oxides concentration. describe the distribution.\n",
    "3. Produce a correlation matrix of all the features. Are there any correlated features? Can you identify one feature with unusual behaviour?\n",
    "4. Select the 2 pairs of features with the highest correlation (positive or negative) and plot 2 scatter plots with marginal histograms (JointPlot). \n",
    "5. Produce a cumulative histogram of the age variable and add two horizontal lines on the first and third quartile (on the cumulative count)\n",
    "6. Identify and report 2 “interesting” trends in the data. No need to provide statistical confidence at this point. "
   ]
  },
  {
   "cell_type": "code",
   "execution_count": 2,
   "metadata": {},
   "outputs": [],
   "source": [
    "boston = load_boston()\n",
    "boston_frame = pd.DataFrame(data=boston.data, columns=boston.feature_names)\n",
    "boston_frame[\"target\"] = boston.target\n"
   ]
  },
  {
   "cell_type": "markdown",
   "metadata": {},
   "source": [
    "####    Concerns housing values in suburbs of Boston.\n",
    "\n",
    "Number of Instances: 506\n",
    "\n",
    "bNumber of Attributes: 13 continuous attributes (including \"class\"\n",
    "                         attribute \"MEDV\"), 1 binary-valued attribute.\n",
    "\n",
    "     Attribute Information:\n",
    "\n",
    "    1. CRIM      per capita crime rate by town\n",
    "    2. ZN        proportion of residential land zoned for lots over \n",
    "                 25,000 sq.ft.\n",
    "    3. INDUS     proportion of non-retail business acres per town\n",
    "    4. CHAS      Charles River dummy variable (= 1.0 if tract bounds \n",
    "                 river; 0.0 otherwise)\n",
    "    5. NOX       nitric oxides concentration (parts per 10 million)\n",
    "    6. RM        average number of rooms per dwelling\n",
    "    7. AGE       proportion of owner-occupied units built prior to 1940\n",
    "    8. DIS       weighted distances to five Boston employment centres\n",
    "    9. RAD       index of accessibility to radial highways\n",
    "    10. TAX      full-value property-tax rate per $10,000$\n",
    "    11. PTRATIO  pupil-teacher ratio by town\n",
    "    12. B        1000(Bk - 0.63)^2 where Bk is the proportion of blacks \n",
    "                 by town\n",
    "    13. LSTAT    % lower status of the population\n",
    "    14. target   Median value of owner-occupied homes in $1000's - ##Added by us##\n"
   ]
  },
  {
   "cell_type": "code",
   "execution_count": 3,
   "metadata": {
    "scrolled": true
   },
   "outputs": [
    {
     "data": {
      "text/html": [
       "<div>\n",
       "<style scoped>\n",
       "    .dataframe tbody tr th:only-of-type {\n",
       "        vertical-align: middle;\n",
       "    }\n",
       "\n",
       "    .dataframe tbody tr th {\n",
       "        vertical-align: top;\n",
       "    }\n",
       "\n",
       "    .dataframe thead th {\n",
       "        text-align: right;\n",
       "    }\n",
       "</style>\n",
       "<table border=\"1\" class=\"dataframe\">\n",
       "  <thead>\n",
       "    <tr style=\"text-align: right;\">\n",
       "      <th></th>\n",
       "      <th>CRIM</th>\n",
       "      <th>ZN</th>\n",
       "      <th>INDUS</th>\n",
       "      <th>CHAS</th>\n",
       "      <th>NOX</th>\n",
       "      <th>RM</th>\n",
       "      <th>AGE</th>\n",
       "      <th>DIS</th>\n",
       "      <th>RAD</th>\n",
       "      <th>TAX</th>\n",
       "      <th>PTRATIO</th>\n",
       "      <th>B</th>\n",
       "      <th>LSTAT</th>\n",
       "      <th>target</th>\n",
       "    </tr>\n",
       "  </thead>\n",
       "  <tbody>\n",
       "    <tr>\n",
       "      <th>0</th>\n",
       "      <td>0.00632</td>\n",
       "      <td>18.0</td>\n",
       "      <td>2.31</td>\n",
       "      <td>0.0</td>\n",
       "      <td>0.538</td>\n",
       "      <td>6.575</td>\n",
       "      <td>65.2</td>\n",
       "      <td>4.0900</td>\n",
       "      <td>1.0</td>\n",
       "      <td>296.0</td>\n",
       "      <td>15.3</td>\n",
       "      <td>396.90</td>\n",
       "      <td>4.98</td>\n",
       "      <td>24.0</td>\n",
       "    </tr>\n",
       "    <tr>\n",
       "      <th>1</th>\n",
       "      <td>0.02731</td>\n",
       "      <td>0.0</td>\n",
       "      <td>7.07</td>\n",
       "      <td>0.0</td>\n",
       "      <td>0.469</td>\n",
       "      <td>6.421</td>\n",
       "      <td>78.9</td>\n",
       "      <td>4.9671</td>\n",
       "      <td>2.0</td>\n",
       "      <td>242.0</td>\n",
       "      <td>17.8</td>\n",
       "      <td>396.90</td>\n",
       "      <td>9.14</td>\n",
       "      <td>21.6</td>\n",
       "    </tr>\n",
       "    <tr>\n",
       "      <th>2</th>\n",
       "      <td>0.02729</td>\n",
       "      <td>0.0</td>\n",
       "      <td>7.07</td>\n",
       "      <td>0.0</td>\n",
       "      <td>0.469</td>\n",
       "      <td>7.185</td>\n",
       "      <td>61.1</td>\n",
       "      <td>4.9671</td>\n",
       "      <td>2.0</td>\n",
       "      <td>242.0</td>\n",
       "      <td>17.8</td>\n",
       "      <td>392.83</td>\n",
       "      <td>4.03</td>\n",
       "      <td>34.7</td>\n",
       "    </tr>\n",
       "    <tr>\n",
       "      <th>3</th>\n",
       "      <td>0.03237</td>\n",
       "      <td>0.0</td>\n",
       "      <td>2.18</td>\n",
       "      <td>0.0</td>\n",
       "      <td>0.458</td>\n",
       "      <td>6.998</td>\n",
       "      <td>45.8</td>\n",
       "      <td>6.0622</td>\n",
       "      <td>3.0</td>\n",
       "      <td>222.0</td>\n",
       "      <td>18.7</td>\n",
       "      <td>394.63</td>\n",
       "      <td>2.94</td>\n",
       "      <td>33.4</td>\n",
       "    </tr>\n",
       "    <tr>\n",
       "      <th>4</th>\n",
       "      <td>0.06905</td>\n",
       "      <td>0.0</td>\n",
       "      <td>2.18</td>\n",
       "      <td>0.0</td>\n",
       "      <td>0.458</td>\n",
       "      <td>7.147</td>\n",
       "      <td>54.2</td>\n",
       "      <td>6.0622</td>\n",
       "      <td>3.0</td>\n",
       "      <td>222.0</td>\n",
       "      <td>18.7</td>\n",
       "      <td>396.90</td>\n",
       "      <td>5.33</td>\n",
       "      <td>36.2</td>\n",
       "    </tr>\n",
       "    <tr>\n",
       "      <th>...</th>\n",
       "      <td>...</td>\n",
       "      <td>...</td>\n",
       "      <td>...</td>\n",
       "      <td>...</td>\n",
       "      <td>...</td>\n",
       "      <td>...</td>\n",
       "      <td>...</td>\n",
       "      <td>...</td>\n",
       "      <td>...</td>\n",
       "      <td>...</td>\n",
       "      <td>...</td>\n",
       "      <td>...</td>\n",
       "      <td>...</td>\n",
       "      <td>...</td>\n",
       "    </tr>\n",
       "    <tr>\n",
       "      <th>501</th>\n",
       "      <td>0.06263</td>\n",
       "      <td>0.0</td>\n",
       "      <td>11.93</td>\n",
       "      <td>0.0</td>\n",
       "      <td>0.573</td>\n",
       "      <td>6.593</td>\n",
       "      <td>69.1</td>\n",
       "      <td>2.4786</td>\n",
       "      <td>1.0</td>\n",
       "      <td>273.0</td>\n",
       "      <td>21.0</td>\n",
       "      <td>391.99</td>\n",
       "      <td>9.67</td>\n",
       "      <td>22.4</td>\n",
       "    </tr>\n",
       "    <tr>\n",
       "      <th>502</th>\n",
       "      <td>0.04527</td>\n",
       "      <td>0.0</td>\n",
       "      <td>11.93</td>\n",
       "      <td>0.0</td>\n",
       "      <td>0.573</td>\n",
       "      <td>6.120</td>\n",
       "      <td>76.7</td>\n",
       "      <td>2.2875</td>\n",
       "      <td>1.0</td>\n",
       "      <td>273.0</td>\n",
       "      <td>21.0</td>\n",
       "      <td>396.90</td>\n",
       "      <td>9.08</td>\n",
       "      <td>20.6</td>\n",
       "    </tr>\n",
       "    <tr>\n",
       "      <th>503</th>\n",
       "      <td>0.06076</td>\n",
       "      <td>0.0</td>\n",
       "      <td>11.93</td>\n",
       "      <td>0.0</td>\n",
       "      <td>0.573</td>\n",
       "      <td>6.976</td>\n",
       "      <td>91.0</td>\n",
       "      <td>2.1675</td>\n",
       "      <td>1.0</td>\n",
       "      <td>273.0</td>\n",
       "      <td>21.0</td>\n",
       "      <td>396.90</td>\n",
       "      <td>5.64</td>\n",
       "      <td>23.9</td>\n",
       "    </tr>\n",
       "    <tr>\n",
       "      <th>504</th>\n",
       "      <td>0.10959</td>\n",
       "      <td>0.0</td>\n",
       "      <td>11.93</td>\n",
       "      <td>0.0</td>\n",
       "      <td>0.573</td>\n",
       "      <td>6.794</td>\n",
       "      <td>89.3</td>\n",
       "      <td>2.3889</td>\n",
       "      <td>1.0</td>\n",
       "      <td>273.0</td>\n",
       "      <td>21.0</td>\n",
       "      <td>393.45</td>\n",
       "      <td>6.48</td>\n",
       "      <td>22.0</td>\n",
       "    </tr>\n",
       "    <tr>\n",
       "      <th>505</th>\n",
       "      <td>0.04741</td>\n",
       "      <td>0.0</td>\n",
       "      <td>11.93</td>\n",
       "      <td>0.0</td>\n",
       "      <td>0.573</td>\n",
       "      <td>6.030</td>\n",
       "      <td>80.8</td>\n",
       "      <td>2.5050</td>\n",
       "      <td>1.0</td>\n",
       "      <td>273.0</td>\n",
       "      <td>21.0</td>\n",
       "      <td>396.90</td>\n",
       "      <td>7.88</td>\n",
       "      <td>11.9</td>\n",
       "    </tr>\n",
       "  </tbody>\n",
       "</table>\n",
       "<p>506 rows × 14 columns</p>\n",
       "</div>"
      ],
      "text/plain": [
       "        CRIM    ZN  INDUS  CHAS    NOX     RM   AGE     DIS  RAD    TAX  \\\n",
       "0    0.00632  18.0   2.31   0.0  0.538  6.575  65.2  4.0900  1.0  296.0   \n",
       "1    0.02731   0.0   7.07   0.0  0.469  6.421  78.9  4.9671  2.0  242.0   \n",
       "2    0.02729   0.0   7.07   0.0  0.469  7.185  61.1  4.9671  2.0  242.0   \n",
       "3    0.03237   0.0   2.18   0.0  0.458  6.998  45.8  6.0622  3.0  222.0   \n",
       "4    0.06905   0.0   2.18   0.0  0.458  7.147  54.2  6.0622  3.0  222.0   \n",
       "..       ...   ...    ...   ...    ...    ...   ...     ...  ...    ...   \n",
       "501  0.06263   0.0  11.93   0.0  0.573  6.593  69.1  2.4786  1.0  273.0   \n",
       "502  0.04527   0.0  11.93   0.0  0.573  6.120  76.7  2.2875  1.0  273.0   \n",
       "503  0.06076   0.0  11.93   0.0  0.573  6.976  91.0  2.1675  1.0  273.0   \n",
       "504  0.10959   0.0  11.93   0.0  0.573  6.794  89.3  2.3889  1.0  273.0   \n",
       "505  0.04741   0.0  11.93   0.0  0.573  6.030  80.8  2.5050  1.0  273.0   \n",
       "\n",
       "     PTRATIO       B  LSTAT  target  \n",
       "0       15.3  396.90   4.98    24.0  \n",
       "1       17.8  396.90   9.14    21.6  \n",
       "2       17.8  392.83   4.03    34.7  \n",
       "3       18.7  394.63   2.94    33.4  \n",
       "4       18.7  396.90   5.33    36.2  \n",
       "..       ...     ...    ...     ...  \n",
       "501     21.0  391.99   9.67    22.4  \n",
       "502     21.0  396.90   9.08    20.6  \n",
       "503     21.0  396.90   5.64    23.9  \n",
       "504     21.0  393.45   6.48    22.0  \n",
       "505     21.0  396.90   7.88    11.9  \n",
       "\n",
       "[506 rows x 14 columns]"
      ]
     },
     "execution_count": 3,
     "metadata": {},
     "output_type": "execute_result"
    }
   ],
   "source": [
    "boston_frame"
   ]
  },
  {
   "cell_type": "code",
   "execution_count": 4,
   "metadata": {},
   "outputs": [
    {
     "data": {
      "text/html": [
       "<div>\n",
       "<style scoped>\n",
       "    .dataframe tbody tr th:only-of-type {\n",
       "        vertical-align: middle;\n",
       "    }\n",
       "\n",
       "    .dataframe tbody tr th {\n",
       "        vertical-align: top;\n",
       "    }\n",
       "\n",
       "    .dataframe thead th {\n",
       "        text-align: right;\n",
       "    }\n",
       "</style>\n",
       "<table border=\"1\" class=\"dataframe\">\n",
       "  <thead>\n",
       "    <tr style=\"text-align: right;\">\n",
       "      <th></th>\n",
       "      <th>count</th>\n",
       "      <th>mean</th>\n",
       "      <th>std</th>\n",
       "      <th>min</th>\n",
       "      <th>25%</th>\n",
       "      <th>50%</th>\n",
       "      <th>75%</th>\n",
       "      <th>max</th>\n",
       "    </tr>\n",
       "  </thead>\n",
       "  <tbody>\n",
       "    <tr>\n",
       "      <th>CRIM</th>\n",
       "      <td>506.0</td>\n",
       "      <td>3.613524</td>\n",
       "      <td>8.601545</td>\n",
       "      <td>0.00632</td>\n",
       "      <td>0.082045</td>\n",
       "      <td>0.25651</td>\n",
       "      <td>3.677083</td>\n",
       "      <td>88.9762</td>\n",
       "    </tr>\n",
       "    <tr>\n",
       "      <th>ZN</th>\n",
       "      <td>506.0</td>\n",
       "      <td>11.363636</td>\n",
       "      <td>23.322453</td>\n",
       "      <td>0.00000</td>\n",
       "      <td>0.000000</td>\n",
       "      <td>0.00000</td>\n",
       "      <td>12.500000</td>\n",
       "      <td>100.0000</td>\n",
       "    </tr>\n",
       "    <tr>\n",
       "      <th>INDUS</th>\n",
       "      <td>506.0</td>\n",
       "      <td>11.136779</td>\n",
       "      <td>6.860353</td>\n",
       "      <td>0.46000</td>\n",
       "      <td>5.190000</td>\n",
       "      <td>9.69000</td>\n",
       "      <td>18.100000</td>\n",
       "      <td>27.7400</td>\n",
       "    </tr>\n",
       "    <tr>\n",
       "      <th>CHAS</th>\n",
       "      <td>506.0</td>\n",
       "      <td>0.069170</td>\n",
       "      <td>0.253994</td>\n",
       "      <td>0.00000</td>\n",
       "      <td>0.000000</td>\n",
       "      <td>0.00000</td>\n",
       "      <td>0.000000</td>\n",
       "      <td>1.0000</td>\n",
       "    </tr>\n",
       "    <tr>\n",
       "      <th>NOX</th>\n",
       "      <td>506.0</td>\n",
       "      <td>0.554695</td>\n",
       "      <td>0.115878</td>\n",
       "      <td>0.38500</td>\n",
       "      <td>0.449000</td>\n",
       "      <td>0.53800</td>\n",
       "      <td>0.624000</td>\n",
       "      <td>0.8710</td>\n",
       "    </tr>\n",
       "    <tr>\n",
       "      <th>RM</th>\n",
       "      <td>506.0</td>\n",
       "      <td>6.284634</td>\n",
       "      <td>0.702617</td>\n",
       "      <td>3.56100</td>\n",
       "      <td>5.885500</td>\n",
       "      <td>6.20850</td>\n",
       "      <td>6.623500</td>\n",
       "      <td>8.7800</td>\n",
       "    </tr>\n",
       "    <tr>\n",
       "      <th>AGE</th>\n",
       "      <td>506.0</td>\n",
       "      <td>68.574901</td>\n",
       "      <td>28.148861</td>\n",
       "      <td>2.90000</td>\n",
       "      <td>45.025000</td>\n",
       "      <td>77.50000</td>\n",
       "      <td>94.075000</td>\n",
       "      <td>100.0000</td>\n",
       "    </tr>\n",
       "    <tr>\n",
       "      <th>DIS</th>\n",
       "      <td>506.0</td>\n",
       "      <td>3.795043</td>\n",
       "      <td>2.105710</td>\n",
       "      <td>1.12960</td>\n",
       "      <td>2.100175</td>\n",
       "      <td>3.20745</td>\n",
       "      <td>5.188425</td>\n",
       "      <td>12.1265</td>\n",
       "    </tr>\n",
       "    <tr>\n",
       "      <th>RAD</th>\n",
       "      <td>506.0</td>\n",
       "      <td>9.549407</td>\n",
       "      <td>8.707259</td>\n",
       "      <td>1.00000</td>\n",
       "      <td>4.000000</td>\n",
       "      <td>5.00000</td>\n",
       "      <td>24.000000</td>\n",
       "      <td>24.0000</td>\n",
       "    </tr>\n",
       "    <tr>\n",
       "      <th>TAX</th>\n",
       "      <td>506.0</td>\n",
       "      <td>408.237154</td>\n",
       "      <td>168.537116</td>\n",
       "      <td>187.00000</td>\n",
       "      <td>279.000000</td>\n",
       "      <td>330.00000</td>\n",
       "      <td>666.000000</td>\n",
       "      <td>711.0000</td>\n",
       "    </tr>\n",
       "    <tr>\n",
       "      <th>PTRATIO</th>\n",
       "      <td>506.0</td>\n",
       "      <td>18.455534</td>\n",
       "      <td>2.164946</td>\n",
       "      <td>12.60000</td>\n",
       "      <td>17.400000</td>\n",
       "      <td>19.05000</td>\n",
       "      <td>20.200000</td>\n",
       "      <td>22.0000</td>\n",
       "    </tr>\n",
       "    <tr>\n",
       "      <th>B</th>\n",
       "      <td>506.0</td>\n",
       "      <td>356.674032</td>\n",
       "      <td>91.294864</td>\n",
       "      <td>0.32000</td>\n",
       "      <td>375.377500</td>\n",
       "      <td>391.44000</td>\n",
       "      <td>396.225000</td>\n",
       "      <td>396.9000</td>\n",
       "    </tr>\n",
       "    <tr>\n",
       "      <th>LSTAT</th>\n",
       "      <td>506.0</td>\n",
       "      <td>12.653063</td>\n",
       "      <td>7.141062</td>\n",
       "      <td>1.73000</td>\n",
       "      <td>6.950000</td>\n",
       "      <td>11.36000</td>\n",
       "      <td>16.955000</td>\n",
       "      <td>37.9700</td>\n",
       "    </tr>\n",
       "    <tr>\n",
       "      <th>target</th>\n",
       "      <td>506.0</td>\n",
       "      <td>22.532806</td>\n",
       "      <td>9.197104</td>\n",
       "      <td>5.00000</td>\n",
       "      <td>17.025000</td>\n",
       "      <td>21.20000</td>\n",
       "      <td>25.000000</td>\n",
       "      <td>50.0000</td>\n",
       "    </tr>\n",
       "  </tbody>\n",
       "</table>\n",
       "</div>"
      ],
      "text/plain": [
       "         count        mean         std        min         25%        50%  \\\n",
       "CRIM     506.0    3.613524    8.601545    0.00632    0.082045    0.25651   \n",
       "ZN       506.0   11.363636   23.322453    0.00000    0.000000    0.00000   \n",
       "INDUS    506.0   11.136779    6.860353    0.46000    5.190000    9.69000   \n",
       "CHAS     506.0    0.069170    0.253994    0.00000    0.000000    0.00000   \n",
       "NOX      506.0    0.554695    0.115878    0.38500    0.449000    0.53800   \n",
       "RM       506.0    6.284634    0.702617    3.56100    5.885500    6.20850   \n",
       "AGE      506.0   68.574901   28.148861    2.90000   45.025000   77.50000   \n",
       "DIS      506.0    3.795043    2.105710    1.12960    2.100175    3.20745   \n",
       "RAD      506.0    9.549407    8.707259    1.00000    4.000000    5.00000   \n",
       "TAX      506.0  408.237154  168.537116  187.00000  279.000000  330.00000   \n",
       "PTRATIO  506.0   18.455534    2.164946   12.60000   17.400000   19.05000   \n",
       "B        506.0  356.674032   91.294864    0.32000  375.377500  391.44000   \n",
       "LSTAT    506.0   12.653063    7.141062    1.73000    6.950000   11.36000   \n",
       "target   506.0   22.532806    9.197104    5.00000   17.025000   21.20000   \n",
       "\n",
       "                75%       max  \n",
       "CRIM       3.677083   88.9762  \n",
       "ZN        12.500000  100.0000  \n",
       "INDUS     18.100000   27.7400  \n",
       "CHAS       0.000000    1.0000  \n",
       "NOX        0.624000    0.8710  \n",
       "RM         6.623500    8.7800  \n",
       "AGE       94.075000  100.0000  \n",
       "DIS        5.188425   12.1265  \n",
       "RAD       24.000000   24.0000  \n",
       "TAX      666.000000  711.0000  \n",
       "PTRATIO   20.200000   22.0000  \n",
       "B        396.225000  396.9000  \n",
       "LSTAT     16.955000   37.9700  \n",
       "target    25.000000   50.0000  "
      ]
     },
     "execution_count": 4,
     "metadata": {},
     "output_type": "execute_result"
    }
   ],
   "source": [
    "boston_frame.describe().T"
   ]
  },
  {
   "cell_type": "code",
   "execution_count": 5,
   "metadata": {},
   "outputs": [
    {
     "data": {
      "text/plain": [
       "(506, 14)"
      ]
     },
     "execution_count": 5,
     "metadata": {},
     "output_type": "execute_result"
    }
   ],
   "source": [
    "boston_frame.shape"
   ]
  },
  {
   "cell_type": "code",
   "execution_count": 6,
   "metadata": {
    "scrolled": true
   },
   "outputs": [
    {
     "data": {
      "text/plain": [
       "CRIM       float64\n",
       "ZN         float64\n",
       "INDUS      float64\n",
       "CHAS       float64\n",
       "NOX        float64\n",
       "RM         float64\n",
       "AGE        float64\n",
       "DIS        float64\n",
       "RAD        float64\n",
       "TAX        float64\n",
       "PTRATIO    float64\n",
       "B          float64\n",
       "LSTAT      float64\n",
       "target     float64\n",
       "dtype: object"
      ]
     },
     "execution_count": 6,
     "metadata": {},
     "output_type": "execute_result"
    }
   ],
   "source": [
    "boston_frame.dtypes"
   ]
  },
  {
   "cell_type": "markdown",
   "metadata": {},
   "source": [
    "### 2. Produce a histogram and a boxplot of the nitric oxides concentration. describe the distribution."
   ]
  },
  {
   "cell_type": "code",
   "execution_count": 7,
   "metadata": {
    "scrolled": false
   },
   "outputs": [
    {
     "data": {
      "text/plain": [
       "Text(0.5, 1.0, 'boxplot of the nitric oxides concentration')"
      ]
     },
     "execution_count": 7,
     "metadata": {},
     "output_type": "execute_result"
    },
    {
     "data": {
      "image/png": "[encoded data removed]",
      "text/plain": [
       "<Figure size 432x288 with 1 Axes>"
      ]
     },
     "metadata": {
      "needs_background": "light"
     },
     "output_type": "display_data"
    }
   ],
   "source": [
    "sns.boxplot(x=boston_frame[\"NOX\"])\n",
    "plt.title(\"boxplot of the nitric oxides concentration\")"
   ]
  },
  {
   "cell_type": "code",
   "execution_count": 8,
   "metadata": {
    "scrolled": false
   },
   "outputs": [
    {
     "data": {
      "text/plain": [
       "Text(0.5, 1.0, 'histogram of the nitric oxides concentration')"
      ]
     },
     "execution_count": 8,
     "metadata": {},
     "output_type": "execute_result"
    },
    {
     "data": {
      "image/png": "[encoded data removed]",
      "text/plain": [
       "<Figure size 720x288 with 1 Axes>"
      ]
     },
     "metadata": {
      "needs_background": "light"
     },
     "output_type": "display_data"
    }
   ],
   "source": [
    "plt.figure(figsize=(10,4))\n",
    "sns.histplot(x=boston_frame[\"NOX\"],bins = 100)\n",
    "plt.title(\"histogram of the nitric oxides concentration\")"
   ]
  },
  {
   "cell_type": "markdown",
   "metadata": {},
   "source": [
    "As can be seen from the boxplot and histogram above, we see that 25% to 75% of the nitric oxides has the concentration levels of 0.449 to 0.624. the median is 0.538 and the mean is 0.55.\n",
    "in terms of distribution we can see a big rise from the count of 0.4 nitric oxide concentration to the count of 0.44 and then a then a decay of some sort . its hard to say which distribution the histogram might imply because the \"rise and falls\" arent consistent to spot some sort of mathematical behaviour."
   ]
  },
  {
   "cell_type": "code",
   "execution_count": 9,
   "metadata": {},
   "outputs": [
    {
     "data": {
      "text/plain": [
       "count    506.000000\n",
       "mean       0.554695\n",
       "std        0.115878\n",
       "min        0.385000\n",
       "25%        0.449000\n",
       "50%        0.538000\n",
       "75%        0.624000\n",
       "max        0.871000\n",
       "Name: NOX, dtype: float64"
      ]
     },
     "execution_count": 9,
     "metadata": {},
     "output_type": "execute_result"
    }
   ],
   "source": [
    "boston_frame.NOX.describe()"
   ]
  },
  {
   "cell_type": "markdown",
   "metadata": {},
   "source": [
    "### 3. Produce a correlation matrix of all the features. Are there any correlated features? Can you identify one feature with unusual behaviour?"
   ]
  },
  {
   "cell_type": "code",
   "execution_count": 10,
   "metadata": {},
   "outputs": [
    {
     "data": {
      "text/html": [
       "<div>\n",
       "<style scoped>\n",
       "    .dataframe tbody tr th:only-of-type {\n",
       "        vertical-align: middle;\n",
       "    }\n",
       "\n",
       "    .dataframe tbody tr th {\n",
       "        vertical-align: top;\n",
       "    }\n",
       "\n",
       "    .dataframe thead th {\n",
       "        text-align: right;\n",
       "    }\n",
       "</style>\n",
       "<table border=\"1\" class=\"dataframe\">\n",
       "  <thead>\n",
       "    <tr style=\"text-align: right;\">\n",
       "      <th></th>\n",
       "      <th>CRIM</th>\n",
       "      <th>ZN</th>\n",
       "      <th>INDUS</th>\n",
       "      <th>CHAS</th>\n",
       "      <th>NOX</th>\n",
       "      <th>RM</th>\n",
       "      <th>AGE</th>\n",
       "      <th>DIS</th>\n",
       "      <th>RAD</th>\n",
       "      <th>TAX</th>\n",
       "      <th>PTRATIO</th>\n",
       "      <th>B</th>\n",
       "      <th>LSTAT</th>\n",
       "      <th>target</th>\n",
       "    </tr>\n",
       "  </thead>\n",
       "  <tbody>\n",
       "    <tr>\n",
       "      <th>CRIM</th>\n",
       "      <td>1.000000</td>\n",
       "      <td>-0.200469</td>\n",
       "      <td>0.406583</td>\n",
       "      <td>-0.055892</td>\n",
       "      <td>0.420972</td>\n",
       "      <td>-0.219247</td>\n",
       "      <td>0.352734</td>\n",
       "      <td>-0.379670</td>\n",
       "      <td>0.625505</td>\n",
       "      <td>0.582764</td>\n",
       "      <td>0.289946</td>\n",
       "      <td>-0.385064</td>\n",
       "      <td>0.455621</td>\n",
       "      <td>-0.388305</td>\n",
       "    </tr>\n",
       "    <tr>\n",
       "      <th>ZN</th>\n",
       "      <td>-0.200469</td>\n",
       "      <td>1.000000</td>\n",
       "      <td>-0.533828</td>\n",
       "      <td>-0.042697</td>\n",
       "      <td>-0.516604</td>\n",
       "      <td>0.311991</td>\n",
       "      <td>-0.569537</td>\n",
       "      <td>0.664408</td>\n",
       "      <td>-0.311948</td>\n",
       "      <td>-0.314563</td>\n",
       "      <td>-0.391679</td>\n",
       "      <td>0.175520</td>\n",
       "      <td>-0.412995</td>\n",
       "      <td>0.360445</td>\n",
       "    </tr>\n",
       "    <tr>\n",
       "      <th>INDUS</th>\n",
       "      <td>0.406583</td>\n",
       "      <td>-0.533828</td>\n",
       "      <td>1.000000</td>\n",
       "      <td>0.062938</td>\n",
       "      <td>0.763651</td>\n",
       "      <td>-0.391676</td>\n",
       "      <td>0.644779</td>\n",
       "      <td>-0.708027</td>\n",
       "      <td>0.595129</td>\n",
       "      <td>0.720760</td>\n",
       "      <td>0.383248</td>\n",
       "      <td>-0.356977</td>\n",
       "      <td>0.603800</td>\n",
       "      <td>-0.483725</td>\n",
       "    </tr>\n",
       "    <tr>\n",
       "      <th>CHAS</th>\n",
       "      <td>-0.055892</td>\n",
       "      <td>-0.042697</td>\n",
       "      <td>0.062938</td>\n",
       "      <td>1.000000</td>\n",
       "      <td>0.091203</td>\n",
       "      <td>0.091251</td>\n",
       "      <td>0.086518</td>\n",
       "      <td>-0.099176</td>\n",
       "      <td>-0.007368</td>\n",
       "      <td>-0.035587</td>\n",
       "      <td>-0.121515</td>\n",
       "      <td>0.048788</td>\n",
       "      <td>-0.053929</td>\n",
       "      <td>0.175260</td>\n",
       "    </tr>\n",
       "    <tr>\n",
       "      <th>NOX</th>\n",
       "      <td>0.420972</td>\n",
       "      <td>-0.516604</td>\n",
       "      <td>0.763651</td>\n",
       "      <td>0.091203</td>\n",
       "      <td>1.000000</td>\n",
       "      <td>-0.302188</td>\n",
       "      <td>0.731470</td>\n",
       "      <td>-0.769230</td>\n",
       "      <td>0.611441</td>\n",
       "      <td>0.668023</td>\n",
       "      <td>0.188933</td>\n",
       "      <td>-0.380051</td>\n",
       "      <td>0.590879</td>\n",
       "      <td>-0.427321</td>\n",
       "    </tr>\n",
       "    <tr>\n",
       "      <th>RM</th>\n",
       "      <td>-0.219247</td>\n",
       "      <td>0.311991</td>\n",
       "      <td>-0.391676</td>\n",
       "      <td>0.091251</td>\n",
       "      <td>-0.302188</td>\n",
       "      <td>1.000000</td>\n",
       "      <td>-0.240265</td>\n",
       "      <td>0.205246</td>\n",
       "      <td>-0.209847</td>\n",
       "      <td>-0.292048</td>\n",
       "      <td>-0.355501</td>\n",
       "      <td>0.128069</td>\n",
       "      <td>-0.613808</td>\n",
       "      <td>0.695360</td>\n",
       "    </tr>\n",
       "    <tr>\n",
       "      <th>AGE</th>\n",
       "      <td>0.352734</td>\n",
       "      <td>-0.569537</td>\n",
       "      <td>0.644779</td>\n",
       "      <td>0.086518</td>\n",
       "      <td>0.731470</td>\n",
       "      <td>-0.240265</td>\n",
       "      <td>1.000000</td>\n",
       "      <td>-0.747881</td>\n",
       "      <td>0.456022</td>\n",
       "      <td>0.506456</td>\n",
       "      <td>0.261515</td>\n",
       "      <td>-0.273534</td>\n",
       "      <td>0.602339</td>\n",
       "      <td>-0.376955</td>\n",
       "    </tr>\n",
       "    <tr>\n",
       "      <th>DIS</th>\n",
       "      <td>-0.379670</td>\n",
       "      <td>0.664408</td>\n",
       "      <td>-0.708027</td>\n",
       "      <td>-0.099176</td>\n",
       "      <td>-0.769230</td>\n",
       "      <td>0.205246</td>\n",
       "      <td>-0.747881</td>\n",
       "      <td>1.000000</td>\n",
       "      <td>-0.494588</td>\n",
       "      <td>-0.534432</td>\n",
       "      <td>-0.232471</td>\n",
       "      <td>0.291512</td>\n",
       "      <td>-0.496996</td>\n",
       "      <td>0.249929</td>\n",
       "    </tr>\n",
       "    <tr>\n",
       "      <th>RAD</th>\n",
       "      <td>0.625505</td>\n",
       "      <td>-0.311948</td>\n",
       "      <td>0.595129</td>\n",
       "      <td>-0.007368</td>\n",
       "      <td>0.611441</td>\n",
       "      <td>-0.209847</td>\n",
       "      <td>0.456022</td>\n",
       "      <td>-0.494588</td>\n",
       "      <td>1.000000</td>\n",
       "      <td>0.910228</td>\n",
       "      <td>0.464741</td>\n",
       "      <td>-0.444413</td>\n",
       "      <td>0.488676</td>\n",
       "      <td>-0.381626</td>\n",
       "    </tr>\n",
       "    <tr>\n",
       "      <th>TAX</th>\n",
       "      <td>0.582764</td>\n",
       "      <td>-0.314563</td>\n",
       "      <td>0.720760</td>\n",
       "      <td>-0.035587</td>\n",
       "      <td>0.668023</td>\n",
       "      <td>-0.292048</td>\n",
       "      <td>0.506456</td>\n",
       "      <td>-0.534432</td>\n",
       "      <td>0.910228</td>\n",
       "      <td>1.000000</td>\n",
       "      <td>0.460853</td>\n",
       "      <td>-0.441808</td>\n",
       "      <td>0.543993</td>\n",
       "      <td>-0.468536</td>\n",
       "    </tr>\n",
       "    <tr>\n",
       "      <th>PTRATIO</th>\n",
       "      <td>0.289946</td>\n",
       "      <td>-0.391679</td>\n",
       "      <td>0.383248</td>\n",
       "      <td>-0.121515</td>\n",
       "      <td>0.188933</td>\n",
       "      <td>-0.355501</td>\n",
       "      <td>0.261515</td>\n",
       "      <td>-0.232471</td>\n",
       "      <td>0.464741</td>\n",
       "      <td>0.460853</td>\n",
       "      <td>1.000000</td>\n",
       "      <td>-0.177383</td>\n",
       "      <td>0.374044</td>\n",
       "      <td>-0.507787</td>\n",
       "    </tr>\n",
       "    <tr>\n",
       "      <th>B</th>\n",
       "      <td>-0.385064</td>\n",
       "      <td>0.175520</td>\n",
       "      <td>-0.356977</td>\n",
       "      <td>0.048788</td>\n",
       "      <td>-0.380051</td>\n",
       "      <td>0.128069</td>\n",
       "      <td>-0.273534</td>\n",
       "      <td>0.291512</td>\n",
       "      <td>-0.444413</td>\n",
       "      <td>-0.441808</td>\n",
       "      <td>-0.177383</td>\n",
       "      <td>1.000000</td>\n",
       "      <td>-0.366087</td>\n",
       "      <td>0.333461</td>\n",
       "    </tr>\n",
       "    <tr>\n",
       "      <th>LSTAT</th>\n",
       "      <td>0.455621</td>\n",
       "      <td>-0.412995</td>\n",
       "      <td>0.603800</td>\n",
       "      <td>-0.053929</td>\n",
       "      <td>0.590879</td>\n",
       "      <td>-0.613808</td>\n",
       "      <td>0.602339</td>\n",
       "      <td>-0.496996</td>\n",
       "      <td>0.488676</td>\n",
       "      <td>0.543993</td>\n",
       "      <td>0.374044</td>\n",
       "      <td>-0.366087</td>\n",
       "      <td>1.000000</td>\n",
       "      <td>-0.737663</td>\n",
       "    </tr>\n",
       "    <tr>\n",
       "      <th>target</th>\n",
       "      <td>-0.388305</td>\n",
       "      <td>0.360445</td>\n",
       "      <td>-0.483725</td>\n",
       "      <td>0.175260</td>\n",
       "      <td>-0.427321</td>\n",
       "      <td>0.695360</td>\n",
       "      <td>-0.376955</td>\n",
       "      <td>0.249929</td>\n",
       "      <td>-0.381626</td>\n",
       "      <td>-0.468536</td>\n",
       "      <td>-0.507787</td>\n",
       "      <td>0.333461</td>\n",
       "      <td>-0.737663</td>\n",
       "      <td>1.000000</td>\n",
       "    </tr>\n",
       "  </tbody>\n",
       "</table>\n",
       "</div>"
      ],
      "text/plain": [
       "             CRIM        ZN     INDUS      CHAS       NOX        RM       AGE  \\\n",
       "CRIM     1.000000 -0.200469  0.406583 -0.055892  0.420972 -0.219247  0.352734   \n",
       "ZN      -0.200469  1.000000 -0.533828 -0.042697 -0.516604  0.311991 -0.569537   \n",
       "INDUS    0.406583 -0.533828  1.000000  0.062938  0.763651 -0.391676  0.644779   \n",
       "CHAS    -0.055892 -0.042697  0.062938  1.000000  0.091203  0.091251  0.086518   \n",
       "NOX      0.420972 -0.516604  0.763651  0.091203  1.000000 -0.302188  0.731470   \n",
       "RM      -0.219247  0.311991 -0.391676  0.091251 -0.302188  1.000000 -0.240265   \n",
       "AGE      0.352734 -0.569537  0.644779  0.086518  0.731470 -0.240265  1.000000   \n",
       "DIS     -0.379670  0.664408 -0.708027 -0.099176 -0.769230  0.205246 -0.747881   \n",
       "RAD      0.625505 -0.311948  0.595129 -0.007368  0.611441 -0.209847  0.456022   \n",
       "TAX      0.582764 -0.314563  0.720760 -0.035587  0.668023 -0.292048  0.506456   \n",
       "PTRATIO  0.289946 -0.391679  0.383248 -0.121515  0.188933 -0.355501  0.261515   \n",
       "B       -0.385064  0.175520 -0.356977  0.048788 -0.380051  0.128069 -0.273534   \n",
       "LSTAT    0.455621 -0.412995  0.603800 -0.053929  0.590879 -0.613808  0.602339   \n",
       "target  -0.388305  0.360445 -0.483725  0.175260 -0.427321  0.695360 -0.376955   \n",
       "\n",
       "              DIS       RAD       TAX   PTRATIO         B     LSTAT    target  \n",
       "CRIM    -0.379670  0.625505  0.582764  0.289946 -0.385064  0.455621 -0.388305  \n",
       "ZN       0.664408 -0.311948 -0.314563 -0.391679  0.175520 -0.412995  0.360445  \n",
       "INDUS   -0.708027  0.595129  0.720760  0.383248 -0.356977  0.603800 -0.483725  \n",
       "CHAS    -0.099176 -0.007368 -0.035587 -0.121515  0.048788 -0.053929  0.175260  \n",
       "NOX     -0.769230  0.611441  0.668023  0.188933 -0.380051  0.590879 -0.427321  \n",
       "RM       0.205246 -0.209847 -0.292048 -0.355501  0.128069 -0.613808  0.695360  \n",
       "AGE     -0.747881  0.456022  0.506456  0.261515 -0.273534  0.602339 -0.376955  \n",
       "DIS      1.000000 -0.494588 -0.534432 -0.232471  0.291512 -0.496996  0.249929  \n",
       "RAD     -0.494588  1.000000  0.910228  0.464741 -0.444413  0.488676 -0.381626  \n",
       "TAX     -0.534432  0.910228  1.000000  0.460853 -0.441808  0.543993 -0.468536  \n",
       "PTRATIO -0.232471  0.464741  0.460853  1.000000 -0.177383  0.374044 -0.507787  \n",
       "B        0.291512 -0.444413 -0.441808 -0.177383  1.000000 -0.366087  0.333461  \n",
       "LSTAT   -0.496996  0.488676  0.543993  0.374044 -0.366087  1.000000 -0.737663  \n",
       "target   0.249929 -0.381626 -0.468536 -0.507787  0.333461 -0.737663  1.000000  "
      ]
     },
     "execution_count": 10,
     "metadata": {},
     "output_type": "execute_result"
    }
   ],
   "source": [
    "boston_frame.corr()"
   ]
  },
  {
   "cell_type": "code",
   "execution_count": 11,
   "metadata": {},
   "outputs": [
    {
     "data": {
      "text/plain": [
       "Text(0.5, 1.0, 'correlation matrix')"
      ]
     },
     "execution_count": 11,
     "metadata": {},
     "output_type": "execute_result"
    },
    {
     "data": {
      "image/png": "[encoded data removed]",
      "text/plain": [
       "<Figure size 1080x504 with 2 Axes>"
      ]
     },
     "metadata": {
      "needs_background": "light"
     },
     "output_type": "display_data"
    }
   ],
   "source": [
    "plt.figure(figsize=(15, 7))\n",
    "sns.heatmap(boston_frame.corr(), vmin=-1, vmax=1,annot=True)\n",
    "plt.title('correlation matrix')"
   ]
  },
  {
   "cell_type": "markdown",
   "metadata": {},
   "source": [
    "Now, lets suggest to look at all of the features with correlation ratio bigger than 0.6 or smaller than -0.6 and well see if we can spot significan correlation:"
   ]
  },
  {
   "cell_type": "code",
   "execution_count": 12,
   "metadata": {},
   "outputs": [
    {
     "data": {
      "text/html": [
       "<div>\n",
       "<style scoped>\n",
       "    .dataframe tbody tr th:only-of-type {\n",
       "        vertical-align: middle;\n",
       "    }\n",
       "\n",
       "    .dataframe tbody tr th {\n",
       "        vertical-align: top;\n",
       "    }\n",
       "\n",
       "    .dataframe thead th {\n",
       "        text-align: right;\n",
       "    }\n",
       "</style>\n",
       "<table border=\"1\" class=\"dataframe\">\n",
       "  <thead>\n",
       "    <tr style=\"text-align: right;\">\n",
       "      <th></th>\n",
       "      <th>CRIM</th>\n",
       "      <th>ZN</th>\n",
       "      <th>INDUS</th>\n",
       "      <th>CHAS</th>\n",
       "      <th>NOX</th>\n",
       "      <th>RM</th>\n",
       "      <th>AGE</th>\n",
       "      <th>DIS</th>\n",
       "      <th>RAD</th>\n",
       "      <th>TAX</th>\n",
       "      <th>PTRATIO</th>\n",
       "      <th>B</th>\n",
       "      <th>LSTAT</th>\n",
       "      <th>target</th>\n",
       "    </tr>\n",
       "  </thead>\n",
       "  <tbody>\n",
       "    <tr>\n",
       "      <th>CRIM</th>\n",
       "      <td>NaN</td>\n",
       "      <td>NaN</td>\n",
       "      <td>NaN</td>\n",
       "      <td>NaN</td>\n",
       "      <td>NaN</td>\n",
       "      <td>NaN</td>\n",
       "      <td>NaN</td>\n",
       "      <td>NaN</td>\n",
       "      <td>0.625505</td>\n",
       "      <td>NaN</td>\n",
       "      <td>NaN</td>\n",
       "      <td>NaN</td>\n",
       "      <td>NaN</td>\n",
       "      <td>NaN</td>\n",
       "    </tr>\n",
       "    <tr>\n",
       "      <th>ZN</th>\n",
       "      <td>NaN</td>\n",
       "      <td>NaN</td>\n",
       "      <td>NaN</td>\n",
       "      <td>NaN</td>\n",
       "      <td>NaN</td>\n",
       "      <td>NaN</td>\n",
       "      <td>NaN</td>\n",
       "      <td>0.664408</td>\n",
       "      <td>NaN</td>\n",
       "      <td>NaN</td>\n",
       "      <td>NaN</td>\n",
       "      <td>NaN</td>\n",
       "      <td>NaN</td>\n",
       "      <td>NaN</td>\n",
       "    </tr>\n",
       "    <tr>\n",
       "      <th>INDUS</th>\n",
       "      <td>NaN</td>\n",
       "      <td>NaN</td>\n",
       "      <td>NaN</td>\n",
       "      <td>NaN</td>\n",
       "      <td>0.763651</td>\n",
       "      <td>NaN</td>\n",
       "      <td>0.644779</td>\n",
       "      <td>-0.708027</td>\n",
       "      <td>NaN</td>\n",
       "      <td>0.720760</td>\n",
       "      <td>NaN</td>\n",
       "      <td>NaN</td>\n",
       "      <td>0.603800</td>\n",
       "      <td>NaN</td>\n",
       "    </tr>\n",
       "    <tr>\n",
       "      <th>CHAS</th>\n",
       "      <td>NaN</td>\n",
       "      <td>NaN</td>\n",
       "      <td>NaN</td>\n",
       "      <td>NaN</td>\n",
       "      <td>NaN</td>\n",
       "      <td>NaN</td>\n",
       "      <td>NaN</td>\n",
       "      <td>NaN</td>\n",
       "      <td>NaN</td>\n",
       "      <td>NaN</td>\n",
       "      <td>NaN</td>\n",
       "      <td>NaN</td>\n",
       "      <td>NaN</td>\n",
       "      <td>NaN</td>\n",
       "    </tr>\n",
       "    <tr>\n",
       "      <th>NOX</th>\n",
       "      <td>NaN</td>\n",
       "      <td>NaN</td>\n",
       "      <td>0.763651</td>\n",
       "      <td>NaN</td>\n",
       "      <td>NaN</td>\n",
       "      <td>NaN</td>\n",
       "      <td>0.731470</td>\n",
       "      <td>-0.769230</td>\n",
       "      <td>0.611441</td>\n",
       "      <td>0.668023</td>\n",
       "      <td>NaN</td>\n",
       "      <td>NaN</td>\n",
       "      <td>NaN</td>\n",
       "      <td>NaN</td>\n",
       "    </tr>\n",
       "    <tr>\n",
       "      <th>RM</th>\n",
       "      <td>NaN</td>\n",
       "      <td>NaN</td>\n",
       "      <td>NaN</td>\n",
       "      <td>NaN</td>\n",
       "      <td>NaN</td>\n",
       "      <td>NaN</td>\n",
       "      <td>NaN</td>\n",
       "      <td>NaN</td>\n",
       "      <td>NaN</td>\n",
       "      <td>NaN</td>\n",
       "      <td>NaN</td>\n",
       "      <td>NaN</td>\n",
       "      <td>-0.613808</td>\n",
       "      <td>0.695360</td>\n",
       "    </tr>\n",
       "    <tr>\n",
       "      <th>AGE</th>\n",
       "      <td>NaN</td>\n",
       "      <td>NaN</td>\n",
       "      <td>0.644779</td>\n",
       "      <td>NaN</td>\n",
       "      <td>0.731470</td>\n",
       "      <td>NaN</td>\n",
       "      <td>NaN</td>\n",
       "      <td>-0.747881</td>\n",
       "      <td>NaN</td>\n",
       "      <td>NaN</td>\n",
       "      <td>NaN</td>\n",
       "      <td>NaN</td>\n",
       "      <td>0.602339</td>\n",
       "      <td>NaN</td>\n",
       "    </tr>\n",
       "    <tr>\n",
       "      <th>DIS</th>\n",
       "      <td>NaN</td>\n",
       "      <td>0.664408</td>\n",
       "      <td>-0.708027</td>\n",
       "      <td>NaN</td>\n",
       "      <td>-0.769230</td>\n",
       "      <td>NaN</td>\n",
       "      <td>-0.747881</td>\n",
       "      <td>NaN</td>\n",
       "      <td>NaN</td>\n",
       "      <td>NaN</td>\n",
       "      <td>NaN</td>\n",
       "      <td>NaN</td>\n",
       "      <td>NaN</td>\n",
       "      <td>NaN</td>\n",
       "    </tr>\n",
       "    <tr>\n",
       "      <th>RAD</th>\n",
       "      <td>0.625505</td>\n",
       "      <td>NaN</td>\n",
       "      <td>NaN</td>\n",
       "      <td>NaN</td>\n",
       "      <td>0.611441</td>\n",
       "      <td>NaN</td>\n",
       "      <td>NaN</td>\n",
       "      <td>NaN</td>\n",
       "      <td>NaN</td>\n",
       "      <td>0.910228</td>\n",
       "      <td>NaN</td>\n",
       "      <td>NaN</td>\n",
       "      <td>NaN</td>\n",
       "      <td>NaN</td>\n",
       "    </tr>\n",
       "    <tr>\n",
       "      <th>TAX</th>\n",
       "      <td>NaN</td>\n",
       "      <td>NaN</td>\n",
       "      <td>0.720760</td>\n",
       "      <td>NaN</td>\n",
       "      <td>0.668023</td>\n",
       "      <td>NaN</td>\n",
       "      <td>NaN</td>\n",
       "      <td>NaN</td>\n",
       "      <td>0.910228</td>\n",
       "      <td>NaN</td>\n",
       "      <td>NaN</td>\n",
       "      <td>NaN</td>\n",
       "      <td>NaN</td>\n",
       "      <td>NaN</td>\n",
       "    </tr>\n",
       "    <tr>\n",
       "      <th>PTRATIO</th>\n",
       "      <td>NaN</td>\n",
       "      <td>NaN</td>\n",
       "      <td>NaN</td>\n",
       "      <td>NaN</td>\n",
       "      <td>NaN</td>\n",
       "      <td>NaN</td>\n",
       "      <td>NaN</td>\n",
       "      <td>NaN</td>\n",
       "      <td>NaN</td>\n",
       "      <td>NaN</td>\n",
       "      <td>NaN</td>\n",
       "      <td>NaN</td>\n",
       "      <td>NaN</td>\n",
       "      <td>NaN</td>\n",
       "    </tr>\n",
       "    <tr>\n",
       "      <th>B</th>\n",
       "      <td>NaN</td>\n",
       "      <td>NaN</td>\n",
       "      <td>NaN</td>\n",
       "      <td>NaN</td>\n",
       "      <td>NaN</td>\n",
       "      <td>NaN</td>\n",
       "      <td>NaN</td>\n",
       "      <td>NaN</td>\n",
       "      <td>NaN</td>\n",
       "      <td>NaN</td>\n",
       "      <td>NaN</td>\n",
       "      <td>NaN</td>\n",
       "      <td>NaN</td>\n",
       "      <td>NaN</td>\n",
       "    </tr>\n",
       "    <tr>\n",
       "      <th>LSTAT</th>\n",
       "      <td>NaN</td>\n",
       "      <td>NaN</td>\n",
       "      <td>0.603800</td>\n",
       "      <td>NaN</td>\n",
       "      <td>NaN</td>\n",
       "      <td>-0.613808</td>\n",
       "      <td>0.602339</td>\n",
       "      <td>NaN</td>\n",
       "      <td>NaN</td>\n",
       "      <td>NaN</td>\n",
       "      <td>NaN</td>\n",
       "      <td>NaN</td>\n",
       "      <td>NaN</td>\n",
       "      <td>-0.737663</td>\n",
       "    </tr>\n",
       "    <tr>\n",
       "      <th>target</th>\n",
       "      <td>NaN</td>\n",
       "      <td>NaN</td>\n",
       "      <td>NaN</td>\n",
       "      <td>NaN</td>\n",
       "      <td>NaN</td>\n",
       "      <td>0.695360</td>\n",
       "      <td>NaN</td>\n",
       "      <td>NaN</td>\n",
       "      <td>NaN</td>\n",
       "      <td>NaN</td>\n",
       "      <td>NaN</td>\n",
       "      <td>NaN</td>\n",
       "      <td>-0.737663</td>\n",
       "      <td>NaN</td>\n",
       "    </tr>\n",
       "  </tbody>\n",
       "</table>\n",
       "</div>"
      ],
      "text/plain": [
       "             CRIM        ZN     INDUS  CHAS       NOX        RM       AGE  \\\n",
       "CRIM          NaN       NaN       NaN   NaN       NaN       NaN       NaN   \n",
       "ZN            NaN       NaN       NaN   NaN       NaN       NaN       NaN   \n",
       "INDUS         NaN       NaN       NaN   NaN  0.763651       NaN  0.644779   \n",
       "CHAS          NaN       NaN       NaN   NaN       NaN       NaN       NaN   \n",
       "NOX           NaN       NaN  0.763651   NaN       NaN       NaN  0.731470   \n",
       "RM            NaN       NaN       NaN   NaN       NaN       NaN       NaN   \n",
       "AGE           NaN       NaN  0.644779   NaN  0.731470       NaN       NaN   \n",
       "DIS           NaN  0.664408 -0.708027   NaN -0.769230       NaN -0.747881   \n",
       "RAD      0.625505       NaN       NaN   NaN  0.611441       NaN       NaN   \n",
       "TAX           NaN       NaN  0.720760   NaN  0.668023       NaN       NaN   \n",
       "PTRATIO       NaN       NaN       NaN   NaN       NaN       NaN       NaN   \n",
       "B             NaN       NaN       NaN   NaN       NaN       NaN       NaN   \n",
       "LSTAT         NaN       NaN  0.603800   NaN       NaN -0.613808  0.602339   \n",
       "target        NaN       NaN       NaN   NaN       NaN  0.695360       NaN   \n",
       "\n",
       "              DIS       RAD       TAX  PTRATIO   B     LSTAT    target  \n",
       "CRIM          NaN  0.625505       NaN      NaN NaN       NaN       NaN  \n",
       "ZN       0.664408       NaN       NaN      NaN NaN       NaN       NaN  \n",
       "INDUS   -0.708027       NaN  0.720760      NaN NaN  0.603800       NaN  \n",
       "CHAS          NaN       NaN       NaN      NaN NaN       NaN       NaN  \n",
       "NOX     -0.769230  0.611441  0.668023      NaN NaN       NaN       NaN  \n",
       "RM            NaN       NaN       NaN      NaN NaN -0.613808  0.695360  \n",
       "AGE     -0.747881       NaN       NaN      NaN NaN  0.602339       NaN  \n",
       "DIS           NaN       NaN       NaN      NaN NaN       NaN       NaN  \n",
       "RAD           NaN       NaN  0.910228      NaN NaN       NaN       NaN  \n",
       "TAX           NaN  0.910228       NaN      NaN NaN       NaN       NaN  \n",
       "PTRATIO       NaN       NaN       NaN      NaN NaN       NaN       NaN  \n",
       "B             NaN       NaN       NaN      NaN NaN       NaN       NaN  \n",
       "LSTAT         NaN       NaN       NaN      NaN NaN       NaN -0.737663  \n",
       "target        NaN       NaN       NaN      NaN NaN -0.737663       NaN  "
      ]
     },
     "execution_count": 12,
     "metadata": {},
     "output_type": "execute_result"
    }
   ],
   "source": [
    "df = boston_frame.corr()\n",
    "a =  df > 0.6\n",
    "b = df < -0.6\n",
    "c = df < 1\n",
    "df = df[a | b]\n",
    "df = df [c]\n",
    "df"
   ]
  },
  {
   "cell_type": "markdown",
   "metadata": {},
   "source": [
    "As seen in the heatmap of the correlation matrix: we can spot that 4 features correlates with each other either negativly or positivly and they are: DIS, AGE, NOX and INDUS the DIS.\n",
    "furthermore, TAX feature correlates really high with RAD (accessibility to radial highways) which is really interesting finding.\n"
   ]
  },
  {
   "cell_type": "markdown",
   "metadata": {},
   "source": [
    "### 4. Select the 2 pairs of features with the highest correlation (positive or negative) and plot 2 scatter plots with marginal histograms (JointPlot). "
   ]
  },
  {
   "cell_type": "code",
   "execution_count": 13,
   "metadata": {},
   "outputs": [
    {
     "data": {
      "text/plain": [
       "0.9102281885331822"
      ]
     },
     "execution_count": 13,
     "metadata": {},
     "output_type": "execute_result"
    }
   ],
   "source": [
    "df.max().max()\n",
    "# TAX - RAD produce the highest positive correlation "
   ]
  },
  {
   "cell_type": "code",
   "execution_count": 14,
   "metadata": {},
   "outputs": [
    {
     "data": {
      "text/plain": [
       "<seaborn.axisgrid.JointGrid at 0x1ee80f317f0>"
      ]
     },
     "execution_count": 14,
     "metadata": {},
     "output_type": "execute_result"
    },
    {
     "data": {
      "image/png": "[encoded data removed]",
      "text/plain": [
       "<Figure size 432x432 with 3 Axes>"
      ]
     },
     "metadata": {
      "needs_background": "light"
     },
     "output_type": "display_data"
    }
   ],
   "source": [
    "sns.jointplot(x=boston_frame['TAX'], y=boston_frame['RAD'], marginal_kws=dict(bins=20))"
   ]
  },
  {
   "cell_type": "code",
   "execution_count": 15,
   "metadata": {},
   "outputs": [
    {
     "data": {
      "text/plain": [
       "-0.7692301132258261"
      ]
     },
     "execution_count": 15,
     "metadata": {},
     "output_type": "execute_result"
    }
   ],
   "source": [
    "df.min().min()\n",
    "# DIS - NOX produce the highest negative correlation "
   ]
  },
  {
   "cell_type": "code",
   "execution_count": 16,
   "metadata": {
    "scrolled": false
   },
   "outputs": [
    {
     "data": {
      "text/plain": [
       "<seaborn.axisgrid.JointGrid at 0x1ee811cb220>"
      ]
     },
     "execution_count": 16,
     "metadata": {},
     "output_type": "execute_result"
    },
    {
     "data": {
      "image/png": "[encoded data removed]",
      "text/plain": [
       "<Figure size 432x432 with 3 Axes>"
      ]
     },
     "metadata": {
      "needs_background": "light"
     },
     "output_type": "display_data"
    }
   ],
   "source": [
    "sns.jointplot(x=boston_frame['DIS'], y=boston_frame['NOX'], marginal_kws=dict(bins=20))"
   ]
  },
  {
   "cell_type": "markdown",
   "metadata": {},
   "source": [
    "### 5. Produce a cumulative histogram of the age variable and add two horizontal lines on the first and third quartile (on the cumulative count)"
   ]
  },
  {
   "cell_type": "code",
   "execution_count": 17,
   "metadata": {
    "scrolled": true
   },
   "outputs": [
    {
     "data": {
      "text/plain": [
       "<matplotlib.lines.Line2D at 0x1ee80cda430>"
      ]
     },
     "execution_count": 17,
     "metadata": {},
     "output_type": "execute_result"
    },
    {
     "data": {
      "image/png": "[encoded data removed]",
      "text/plain": [
       "<Figure size 576x288 with 2 Axes>"
      ]
     },
     "metadata": {
      "needs_background": "light"
     },
     "output_type": "display_data"
    }
   ],
   "source": [
    "f, ((ax1, ax2)) = plt.subplots(1, 2, sharex='col',figsize=(8,4));\n",
    "plt.suptitle ('histogram of the age Cumulative')\n",
    "plt.subplots_adjust(wspace = 0.3)\n",
    "sns.histplot(x=boston_frame[\"AGE\"],bins = 20,cumulative= True,stat = \"count\",ax=ax1)\n",
    "sns.histplot(x=boston_frame[\"AGE\"],bins = 20,cumulative= True,stat = \"density\",ax=ax2)\n",
    "#compute quartile\n",
    "plt.axhline(0.25, color='b', linestyle='--')\n",
    "plt.axhline(0.75, color='b', linestyle='--')"
   ]
  },
  {
   "cell_type": "markdown",
   "metadata": {},
   "source": [
    "### 6. Identify and report 2 “interesting” trends in the data. No need to provide statistical confidence at this point. "
   ]
  },
  {
   "cell_type": "markdown",
   "metadata": {},
   "source": [
    "we identified two interesting trends regarding the target price attribute we added:\n",
    "1. LSTAT (% lower status of the population) - one can expect to a high target price where the precentage of the lower population is low. it is indeed reflected in the data, and presented in the plot. \n",
    "2. CRIM (crime rate by town) - one can expect for a high crime rate in a place with low target price and it is indeed reflected in the data, and presented in the plot.\n",
    "\n",
    "\n",
    "the trend line shows predicted target price based on each feature "
   ]
  },
  {
   "cell_type": "code",
   "execution_count": 18,
   "metadata": {},
   "outputs": [
    {
     "data": {
      "text/plain": [
       "<matplotlib.axes._subplots.AxesSubplot at 0x1ee80d2c790>"
      ]
     },
     "execution_count": 18,
     "metadata": {},
     "output_type": "execute_result"
    },
    {
     "data": {
      "image/png": "[encoded data removed]",
      "text/plain": [
       "<Figure size 720x360 with 2 Axes>"
      ]
     },
     "metadata": {
      "needs_background": "light"
     },
     "output_type": "display_data"
    }
   ],
   "source": [
    "f, ((ax1, ax2)) = plt.subplots(1, 2, sharex='col', sharey='row',figsize=(10,5));\n",
    "sns.regplot(x = \"LSTAT\",y = \"target\",data = boston_frame, line_kws={'color': 'red'},ax=ax1)\n",
    "sns.regplot(x = \"CRIM\",y = \"target\",data = boston_frame, line_kws={'color': 'red'},ax=ax2)"
   ]
  },
  {
   "cell_type": "markdown",
   "metadata": {},
   "source": [
    "### Question 2 - Independence and conditional independence"
   ]
  },
  {
   "cell_type": "markdown",
   "metadata": {},
   "source": [
    "#### 2.A\n",
    "Can we define a three dimensional multivariate gaussian that is pairwise-independent but not collectivley independent?\n",
    "If your anser is yes, provide an example.\n",
    "If your answer is no, provide a proof."
   ]
  },
  {
   "cell_type": "markdown",
   "metadata": {},
   "source": [
    "#### 2.A answer\n",
    "\n",
    "Assume we have an X vector which follows:\n",
    "$$X = (x_1,x_2,x_3,...,x_n)∼N(μ,Σ) $$\n",
    "\n",
    "where $Σ \\in M^{nxn}$ represent the covariance squared matrix with n dimensions\n",
    "\n",
    "and the pdf is given as:\n",
    "\n",
    "$$ p(x_1,...,x_n) = {\\frac{1}{\\sqrt{(2\\pi)^n |Σ|}}\\large e^{\\frac{-1}{2}(X-μ)^TΣ^{-1}(X-μ)}} $$\n",
    "\n",
    "now we know that we have pairwise - independent thus the covariance matrix $Σ$ becomes diagonal:\n",
    "$$\n",
    "Σ_{n,n} = \n",
    " \\begin{pmatrix}\n",
    "  \\sigma_{1,1}^2 & 0 & \\cdots & 0 \\\\\n",
    "  0 & \\sigma_{2,2}^2 & \\cdots & 0 \\\\\n",
    "  \\vdots  & \\vdots  & \\ddots & \\vdots  \\\\\n",
    "  0 & 0 & \\cdots & \\sigma_{n,n}^2 \n",
    " \\end{pmatrix}\n",
    " $$\n",
    "and we will represent $μ$ as: $$ μ = (μ_1,μ_2,...,μ_n)$$\n",
    "now, applying determinent on a diagonal matrix produces the following: $$\\large det(Σ_{n,n}) = \\Pi_{i=1}^{n} \\sigma_{i,i}^2 $$\n",
    "inserting the values of $Σ$ inside the pdf gives us: \n",
    "$$ p(x_1,...,x_n) = {\\Large\\Pi_{i=1}^{n}}{\\frac{1}{\\sqrt{(2\\pi)\\sigma_i^2}}\\large e^{{\\Large-\\frac{1}{{\\Large 2\\sigma_i^2}}(X_i-μ_i)^T(X_i-μ_i)}}} $$\n",
    "now lets rearrange it again: \n",
    "$$ p(x_1,...,x_n) = {\\Large\\Pi_{i=1}^{n}}{\\frac{1}{\\sqrt{(2\\pi)\\sigma_i^2}}\\large e^{{\\Large-\\frac{1}{{\\Large 2\\sigma_i^2}}(X_i-μ_i)^2}}} $$\n",
    "as written above we get that due to pairwise independent conditions, our pdf now is from the form of: $$ p(x_1,...,x_n) = p(x_1)\\cdot p(x_2)\\cdot...\\cdot p(x_n)$$\n",
    "\n",
    "**which states that pairwise independent three dimensional multivariate gaussian is by nature collectivley independent as well**"
   ]
  },
  {
   "cell_type": "markdown",
   "metadata": {},
   "source": [
    "#### 2.B\n",
    "Let $\\ X, Y \\ $ and $Z$  be discrete random variables with $\\ n, m \\ $ and $k$ possible outcomes respectivley.\n",
    "\n",
    "How many parameters define the joint distribution of $\\ X, Y \\ $ and $Z$?"
   ]
  },
  {
   "cell_type": "markdown",
   "metadata": {},
   "source": [
    "#### 2.B answer\n",
    "the total possible values are: $n\\cdot m \\cdot k$\n",
    "but nevertheless, the necessary parameters number to define the joint distributions is $$n\\cdot m \\cdot k -1$$ \n",
    "##### explanation: \n",
    "because the sum of all probabilities is ought to be 1, hence the last parameter can be derived from sum of probabilities reduced by  $n\\cdot m \\cdot k$."
   ]
  },
  {
   "cell_type": "markdown",
   "metadata": {},
   "source": [
    "#### 2.C\n",
    "For the same random variables from the previous section, how many parameters define the joint distribution of $\\ X, Y \\ $ and $Z$ if we now know that they are independent?"
   ]
  },
  {
   "cell_type": "markdown",
   "metadata": {},
   "source": [
    "#### 2.C answer\n",
    "the total possible values of the joint distributions are defined by $n+ m + k$, but with the independence information we can reduce the number of parameters by 1 for each random variable, due to additional knowledge about the parameters hence:\n",
    "$$(n-1)+ (m-1) + (k-1)$$"
   ]
  },
  {
   "cell_type": "markdown",
   "metadata": {},
   "source": [
    "#### 2.D\n",
    "For the same random variables from the previous section, how many parameters define the joint distribution of $\\ X, Y \\ $ and $Z$ if we now know that $X$ and $Y$ are conditionaly independent given $Z$?"
   ]
  },
  {
   "cell_type": "markdown",
   "metadata": {},
   "source": [
    "#### 2.D answer\n",
    "the total possible values of the joint distributions are defined by $(n+m)\\cdot k$, but with the independence information and the fact that the probabilities sum up tp 1 we can reduce the number of parameters :\n",
    "$$k\\cdot ((n-1) +(m-1)) -1$$"
   ]
  },
  {
   "cell_type": "markdown",
   "metadata": {},
   "source": [
    "#### 2.E\n",
    "For the random variables from the previous section, let $n=m=2$ and $k=2$. Give and example for a joint distribution of $\\ X, Y \\ $ and $Z$ where $X$ and $Y$ are conditionaly independent given $Z$?"
   ]
  },
  {
   "cell_type": "markdown",
   "metadata": {},
   "source": [
    "### 2.E Answer\n",
    "\n",
    "following that $X$ and $Y$ are conditionaly independent given $Z$\n",
    "$$\\forall a,b,c : P(X=a,Y=b|Z=c)=P(X=a|Z=c)P(Y=b|Z=c)$$\n",
    "two coins with probabilities p and q of obtaining Heads, and we randomly choose one of them (denote the choice by X) and\n",
    "flip it twice to obtain Y1, Y2, then Y1, Y2 are conditionally independent given X. \n",
    "\n",
    "for example: 2 coins: One fair coin with {T,H} ,Second coin {H,H}: biased and unfair\n",
    "* $X$ = first toss result is: {H}\n",
    "* $Y$ = Second toss result is: {H}\n",
    "* $Z$ = coin 1 has been selected\n",
    "\n",
    "$P(a|c)=P(b|c)=\\frac{1}{2} \\rightarrow$ \n",
    "coin 1 has been selected: $$P(a\\cap b|c)=\\frac{1}{2}\\cdot \\frac{1}{2}=\\frac{1}{4}$$\n",
    "$\\forall a,b,c$: $X$ and $Y$ conditionaly independent given $Z$ if: $$P(X=a,Y=b|Z=c)=P(a|c)\\cdot P(b|c) =P(a\\cap b|c)=\\frac{1}{4}$$;"
   ]
  },
  {
   "cell_type": "markdown",
   "metadata": {},
   "source": [
    "### Question 3 - Gaussian mixtures – parameter estimation and generation "
   ]
  },
  {
   "cell_type": "markdown",
   "metadata": {},
   "source": [
    "Consider the data provided in GMD_2021.csv\n",
    "Assume that the data comes from a Gaussian mixture distribution (GMD) with $k=3\\ \\ $. Furthermore, assume that $\\mu_{1}=4, \\mu_{2}=9, \\sigma_{1}=\\sigma_{2}=0.5, \\sigma_3=1.5$ and $w_2=0.25$.\n",
    "\n",
    "Read the data and answer the following questions."
   ]
  },
  {
   "cell_type": "code",
   "execution_count": 19,
   "metadata": {
    "scrolled": false
   },
   "outputs": [
    {
     "data": {
      "text/plain": [
       "<matplotlib.axes._subplots.AxesSubplot at 0x1ee812710d0>"
      ]
     },
     "execution_count": 19,
     "metadata": {},
     "output_type": "execute_result"
    },
    {
     "data": {
      "image/png": "[encoded data removed]",
      "text/plain": [
       "<Figure size 432x288 with 1 Axes>"
      ]
     },
     "metadata": {
      "needs_background": "light"
     },
     "output_type": "display_data"
    }
   ],
   "source": [
    "GMD = pd.read_csv('GMD_2021.csv', header = None, index_col = 0, squeeze = True)\n",
    "sns.distplot(x=GMD,bins = 100,kde_kws={\"color\": \"g\", \"lw\": 3, \"label\": \"KDE\"},hist_kws={\"color\": \"red\"})"
   ]
  },
  {
   "cell_type": "markdown",
   "metadata": {},
   "source": [
    "#### 3.A\n",
    "Provide an estimate for the other parameters of the distribution in two different ways."
   ]
  },
  {
   "cell_type": "markdown",
   "metadata": {},
   "source": [
    "#### first estimatiom method - EM"
   ]
  },
  {
   "cell_type": "code",
   "execution_count": 20,
   "metadata": {
    "scrolled": true
   },
   "outputs": [
    {
     "name": "stdout",
     "output_type": "stream",
     "text": [
      " sigma:  [0.5 0.5 1.5] \n",
      "\n",
      "\n",
      " miu:  [4 9 5] \n",
      "\n",
      "\n",
      " w:  [0.3  0.25 0.45]\n"
     ]
    }
   ],
   "source": [
    "sigma = np.array([0.5,0.5,1.5]) #sigma_3 initial guess is 1.5\n",
    "miu = np.array([4,9,5]) #miu_3 initial guess is 15\n",
    "w = np.array([0.3,0.25,0.45]) #w_1 initial guess is 0.3, w_3 initial guess is 0.45 \n",
    "print(\" sigma: \",sigma,\"\\n\\n\\n\",\"miu: \",miu,\"\\n\\n\\n\",\"w: \",w)"
   ]
  },
  {
   "cell_type": "code",
   "execution_count": 21,
   "metadata": {},
   "outputs": [],
   "source": [
    "def respo(x,k,w,miu,sigma): # K runs from 1 to 3\n",
    "#     print(w[k-1],miu[k-1],sigma[k-1])\n",
    "    numerator = w[k-1] * stats.norm.pdf(x,miu[k-1],sigma[k-1])\n",
    "    denominator = 0\n",
    "    for j in range(3):\n",
    "        denominator+= w[j] * stats.norm.pdf(x,miu[j],sigma[j])\n",
    "    if denominator ==0:\n",
    "        return None\n",
    "    return numerator / denominator "
   ]
  },
  {
   "cell_type": "code",
   "execution_count": 22,
   "metadata": {},
   "outputs": [],
   "source": [
    "def calc_log_like(x,w,miu,sigma): #calculating the log likelihood for a pandas series\n",
    "    val = 0\n",
    "    for j in range(3):\n",
    "        val+= w[j] * stats.norm.pdf(x,miu[j],sigma[j])\n",
    "    return np.log(val)"
   ]
  },
  {
   "cell_type": "code",
   "execution_count": 23,
   "metadata": {},
   "outputs": [],
   "source": [
    "from tqdm import tqdm_notebook as tqdm #adding a nice progress bar to know when the loop is finished\n",
    "def calc_parm_em(GMD,w,miu,sigma, iter_num = 10):\n",
    "    data = { 'X': GMD.copy(), 'r_1': GMD.copy(), 'r_2': GMD.copy(), 'r_3': GMD.copy(), 'log_lik': GMD.copy() } \n",
    "    em = pd.DataFrame(data) #initialize the data\n",
    "    log_like = {}\n",
    "    em.log_lik = em.log_lik.apply(calc_log_like,w=w,miu=miu,sigma=sigma) # first iteration log likelihood\n",
    "    log_like.update({0: em.log_lik.sum()})\n",
    "    for i in tqdm(range(iter_num)):\n",
    "        #first calculate responsibilities - sort them as a dataframe where first column is X and the rest are r_i's\n",
    "        #using pandas apply function - sweet stuff!\n",
    "        em.r_1 = em.X.apply(respo,k=1,w=w,miu=miu,sigma=sigma)\n",
    "        em.r_2 = em.X.apply(respo,k=2,w=w,miu=miu,sigma=sigma)\n",
    "        em.r_3 = em.X.apply(respo,k=3,w=w,miu=miu,sigma=sigma)\n",
    "        w[0] = em.iloc[:,1].sum() / em.X.size\n",
    "        w[2] = em.iloc[:,3].sum() / em.X.size\n",
    "        miu[2] = (em.X * em.iloc[:,3]).sum()/(em.X.size*w[2])\n",
    "        #sigma[j] = np.sqrt((em.iloc[:,j+1] * ((em.X - miu[j])**2)).sum()/(em.X.size*w[j]))\n",
    "#       print(\"iteration{0}\\n :omega{1}\\n sigma{2}\\n miu{3}\\n\".format(i+1,w,sigma,miu))\n",
    "        em.log_lik = em.X.apply(calc_log_like,w=w,miu=miu,sigma=sigma)\n",
    "        log_like.update({i+1: em.log_lik.sum()})\n",
    "    ax = plt.axes()\n",
    "    ax.plot([item for item in log_like.keys()],[item for item in log_like.values()])\n",
    "    plt.xticks(np.arange(0, iter_num, 1))\n",
    "    ax.set(xlabel='Iteration', ylabel='log likelihood',title='Log likelihood over iteration')\n",
    "    return w,miu,sigma,log_like"
   ]
  },
  {
   "cell_type": "code",
   "execution_count": 24,
   "metadata": {
    "scrolled": false
   },
   "outputs": [
    {
     "data": {
      "application/vnd.jupyter.widget-view+json": {
       "model_id": "af9659cad2ec45cc88263011ea46431d",
       "version_major": 2,
       "version_minor": 0
      },
      "text/plain": [
       "HBox(children=(FloatProgress(value=0.0, max=10.0), HTML(value='')))"
      ]
     },
     "metadata": {},
     "output_type": "display_data"
    },
    {
     "name": "stdout",
     "output_type": "stream",
     "text": [
      "\n",
      "w_1 is : 0.1250\n",
      "w_3 is 0.6252\n",
      "miu_3 is 15.1011\n",
      "\n",
      "In total:\n",
      "\n",
      " Sigma is: [0.5 0.5 1.5] \n",
      " Miu is: [ 4.          9.         15.10105914] \n",
      " w is: [0.125      0.25       0.62518878]\n",
      " sum of w is: 1.0001887797192301\n"
     ]
    },
    {
     "data": {
      "image/png": "[encoded data removed]",
      "text/plain": [
       "<Figure size 432x288 with 1 Axes>"
      ]
     },
     "metadata": {
      "needs_background": "light"
     },
     "output_type": "display_data"
    }
   ],
   "source": [
    "sigma = np.array([0.5,0.5,1.5]) #sigma_3 initial guess is 1.5\n",
    "miu = np.array([4,9,1]).astype(float) #miu_3 initial guess is 1\n",
    "w = np.array([0.5,0.25,0.5]) #w_1 initial guess is 0.5, w_3 initial guess is 0.5\n",
    "w,miu,sigma,log_like = calc_parm_em(GMD,w,miu,sigma,iter_num = 10)\n",
    "print(\"w_1 is : {0:.4f}\\nw_3 is {1:.4f}\\nmiu_3 is {2:.4f}\".format(w[0],w[2],miu[2]))\n",
    "print(\"\\nIn total:\\n\")\n",
    "print(\" Sigma is:\",sigma,\"\\n\",\"Miu is:\",miu,\"\\n\",\"w is:\",w)\n",
    "print(\" sum of w is: {0}\".format(w.sum()))"
   ]
  },
  {
   "cell_type": "markdown",
   "metadata": {},
   "source": [
    "#### second estimatiom method - solving unlinear system of equations"
   ]
  },
  {
   "cell_type": "markdown",
   "metadata": {},
   "source": [
    "the unlinear system of equations will be of this type:\n",
    "$$1)\\space w_1+w_2+w_3 = 1$$\n",
    "$$2)\\space \\mu_{GMM} = w_1\\cdot\\mu_1  + w_2\\cdot\\mu_2  + w_3\\cdot\\mu_3$$\n",
    "$$3)\\space \\sigma^2_{GMM} = w_1\\cdot\\sigma_1^2 + w_2\\cdot\\sigma_2^2 + w_3\\cdot\\sigma_3^2 + w_1\\cdot(\\mu_1-\\mu)^2 + w_2\\cdot(\\mu_2-\\mu)^2 + w_3\\cdot(\\mu_3-\\mu)^2$$"
   ]
  },
  {
   "cell_type": "code",
   "execution_count": 25,
   "metadata": {
    "scrolled": true
   },
   "outputs": [
    {
     "name": "stdout",
     "output_type": "stream",
     "text": [
      "w1 is : 0.1234\n",
      "w_3 is 0.6266\n",
      "miu_3 is 15.0894\n",
      "\n",
      "In total:\n",
      "\n",
      " Sigma is: [0.5 0.5 1.5] \n",
      " Miu is: [ 4  9 15] \n",
      " w is: [0.12338231 0.25       0.62661769]\n",
      " sum of w is: 1.0\n"
     ]
    }
   ],
   "source": [
    "sigma = np.array([0.5,0.5,1.5]) #sigma_3 initial guess is 1.5\n",
    "miu = np.array([4,9,15]) #miu_3 initial guess is 15\n",
    "w = np.array([0.3,0.25,0.45]) #w_1 initial guess is 0.3, w_3 initial guess is 0.45 \n",
    "from scipy.optimize import fsolve\n",
    "def func(x): #x[0] = w_1 , x[1] = w_3 , x[2] = miu_3\n",
    "    sigma = np.array([0.5,0.5,1.5]) #sigma_3 initial guess is 1.5\n",
    "    miu = np.array([4,9,15]) #miu_3 initial guess is 15\n",
    "    w = np.array([0.3,0.25,0.45]) #w_1 initial guess is 0.3, w_3 initial guess is 0.45 \n",
    "    data_mean = 12.19884308211053\n",
    "    data_var = 17.591027829588853\n",
    "    return [x[0] +x[1]+ w[1] - 1, x[0]*miu[0]+w[1]*miu[1]+x[1]*x[2] - data_mean,  x[0]*(sigma[0]**2)+w[1]*(sigma[1]**2)+x[1]*(sigma[2]**2)+x[0]*((miu[0]-data_mean)**2)+w[1]*((miu[1]-data_mean)**2)+x[1]*((x[2]-data_mean)**2)- data_var]\n",
    "w_1,w_3,miu_3 = fsolve(func, [0.3, 0.45,15])\n",
    "w[0] = w_1\n",
    "w[2] = w_3\n",
    "miu[2] = miu_3\n",
    "print(\"w1 is : {0:.4f}\\nw_3 is {1:.4f}\\nmiu_3 is {2:.4f}\".format(w_1,w_3,miu_3))\n",
    "print(\"\\nIn total:\\n\")\n",
    "print(\" Sigma is:\",sigma,\"\\n\",\"Miu is:\",miu,\"\\n\",\"w is:\",w)\n",
    "print(\" sum of w is: {0}\".format(w.sum()))"
   ]
  },
  {
   "cell_type": "markdown",
   "metadata": {},
   "source": [
    "#### 3.B\n",
    "Plot a graph of the pdf of the distribution you inferred. Select adequate limits for the axes for this plot and explain your decision."
   ]
  },
  {
   "cell_type": "code",
   "execution_count": 26,
   "metadata": {},
   "outputs": [
    {
     "data": {
      "image/png": "[encoded data removed]",
      "text/plain": [
       "<Figure size 1152x432 with 2 Axes>"
      ]
     },
     "metadata": {
      "needs_background": "light"
     },
     "output_type": "display_data"
    }
   ],
   "source": [
    "def gmm_pdf(GMD,w,miu,sigma):\n",
    "    gmm = np.zeros((800))\n",
    "    for i in range(GMD.size):\n",
    "        gmm[i]=(w[0] * stats.norm.pdf(GMD[i],miu[0],sigma[0]) + w[1] * stats.norm.pdf(GMD[i],miu[1],sigma[1]) +w[2] * stats.norm.pdf(GMD[i],miu[2],sigma[2]))\n",
    "    fig, ax = plt.subplots(1, 2, figsize=(16, 6))\n",
    "    sns.distplot(gmm,ax=ax[0],bins = 100,hist=False,kde_kws={\"color\": \"red\", \"lw\": 3, \"label\": \"KDE\"},hist_kws={\"color\": \"red\"})\n",
    "    sns.distplot(gmm,ax=ax[1],bins = 100,kde_kws={\"color\": \"red\", \"lw\": 3, \"label\": \"KDE\"},hist_kws={\"color\": \"red\"})\n",
    "    ax[0].set_xlim(xmin= gmm.mean()-3*gmm.std() , xmax= gmm.mean()+3*gmm.std())\n",
    "    ax[1].set_xlim(xmin= gmm.mean()-3*gmm.std() , xmax= gmm.mean()+3*gmm.std())\n",
    "    ax[0].set_title('GMM distribution plot')\n",
    "    ax[1].set_title('GMM distribution and histogram plot')\n",
    "gmm_pdf(GMD,w,miu,sigma)"
   ]
  },
  {
   "cell_type": "markdown",
   "metadata": {},
   "source": [
    "#### we chose the limits of X to be $X \\in [\\mu - 3\\sigma, \\mu +3\\sigma]$ to get the 99.7% of the data in the plot"
   ]
  },
  {
   "cell_type": "markdown",
   "metadata": {},
   "source": [
    "#### 3.C\n",
    "Describe two ways for generating data for a GMM random variable with:\n",
    "* centers at  $\\mu_1+3, \\mu_2+5, \\mu_3+7$\n",
    "* $\\sigma_1=\\sigma_2=\\sigma_3=1$\n",
    "* $w_1=w_2=w_3=0.33$"
   ]
  },
  {
   "cell_type": "markdown",
   "metadata": {},
   "source": [
    "First: Generate 3 normal distributions with chosen parametric size N.\n",
    "#### First approach - concatenation:\n",
    "* Concatenate the 3 data arrays to create a  $Gmm_c$ data array.\n",
    "\n",
    "#### Second approach - random Pick:\n",
    "create an empty data array $Gmm$ to assign the gmm data into.\n",
    "\n",
    "iterate over the size of the distributions - N and do:\n",
    "* generate uniformly a probability $p$.\n",
    "  * if $ p<0.33$ then randomly pick a value $x$ from the first generated normal distribution\n",
    "  * if $ 0.33\\leq p<0.66$ then randomly pick a value $y$ from the second generated normal distribution\n",
    "  * if $ 0.66\\leq p \\leq 1$ then randomly pick a value $z$ from the thirs generated normal distribution\n",
    "* append to $Gmm$ the chosen value $x$ or $y$ or $z$."
   ]
  },
  {
   "cell_type": "markdown",
   "metadata": {},
   "source": [
    "#### 3.D\n",
    "Use one of the above approaches to generate 1000 points and plot a histogram of the result (decide on bins, axes etc)\n"
   ]
  },
  {
   "cell_type": "code",
   "execution_count": 27,
   "metadata": {
    "scrolled": false
   },
   "outputs": [
    {
     "data": {
      "text/plain": [
       "Text(0.5, 1.0, 'First Approach - Concatenation')"
      ]
     },
     "execution_count": 27,
     "metadata": {},
     "output_type": "execute_result"
    },
    {
     "data": {
      "image/png": "[encoded data removed]",
      "text/plain": [
       "<Figure size 1152x432 with 1 Axes>"
      ]
     },
     "metadata": {
      "needs_background": "light"
     },
     "output_type": "display_data"
    }
   ],
   "source": [
    "miu = np.array([4+3,9+5,15+7])\n",
    "sigma = 1\n",
    "w = 0.33\n",
    "first_gaussian = stats.norm.rvs(loc=miu[0], scale=sigma, size=333)\n",
    "second_gaussian = stats.norm.rvs(loc=miu[1], scale=sigma, size=333)\n",
    "third_gaussian = stats.norm.rvs(loc=miu[2], scale=sigma, size=334)\n",
    "Gmm_c = np.concatenate([first_gaussian, second_gaussian,third_gaussian])\n",
    "fig, ax = plt.subplots(1, 1, figsize=(16, 6))\n",
    "sns.distplot(Gmm_c, bins=100,kde_kws={\"color\": \"b\", \"lw\": 3, \"label\": \"KDE\"},hist_kws={\"color\": \"red\"})\n",
    "plt.xlim(xmin= Gmm_c.mean()-3*Gmm_c.std() , xmax= Gmm_c.mean()+3*Gmm_c.std())\n",
    "ax.set_title('First Approach - Concatenation')"
   ]
  },
  {
   "cell_type": "markdown",
   "metadata": {},
   "source": [
    "#### 3.E - BONUS\n",
    "Use the other one to generate 1000 more points and draw two comparative histograms.\n"
   ]
  },
  {
   "cell_type": "code",
   "execution_count": 28,
   "metadata": {
    "scrolled": false
   },
   "outputs": [
    {
     "data": {
      "text/plain": [
       "<matplotlib.legend.Legend at 0x1ee80aeaaf0>"
      ]
     },
     "execution_count": 28,
     "metadata": {},
     "output_type": "execute_result"
    },
    {
     "data": {
      "image/png": "[encoded data removed]",
      "text/plain": [
       "<Figure size 1008x1152 with 3 Axes>"
      ]
     },
     "metadata": {
      "needs_background": "light"
     },
     "output_type": "display_data"
    }
   ],
   "source": [
    "Gmm = np.zeros(1000)\n",
    "for i in range(1000):\n",
    "    p = stats.uniform.rvs(size=1)\n",
    "    if p < 0.33:\n",
    "        Gmm[i] = np.random.choice(a=first_gaussian, size=1)\n",
    "    elif p>=0.33 and p < 0.66:\n",
    "        Gmm[i] = np.random.choice(a=second_gaussian, size=1)\n",
    "    else:\n",
    "        Gmm[i] = np.random.choice(a=third_gaussian, size=1)\n",
    "# plotting the comparative GMM and GMM_c\n",
    "fig, ax = plt.subplots(3, 1, figsize=(14, 16))\n",
    "sns.distplot(Gmm_c, ax=ax[0],bins=100,kde_kws={\"color\": \"b\", \"lw\": 3, \"label\": \"KDE\"},hist_kws={\"color\": \"red\"})\n",
    "ax[0].set_title('First Approach - Concatenation', fontdict={'fontsize': 15})\n",
    "ax[0].set_xlim(xmin= Gmm_c.mean()-3*Gmm_c.std() , xmax= Gmm_c.mean()+3*Gmm_c.std())\n",
    "sns.distplot( Gmm, ax=ax[1],bins=100,kde_kws={\"color\": \"b\", \"lw\": 3, \"label\": \"KDE\"},hist_kws={\"color\": \"red\"})\n",
    "ax[1].set_title('Second Approach - Random Pick', fontdict={'fontsize': 15})\n",
    "ax[1].set_xlim(xmin= Gmm.mean()-3*Gmm.std() , xmax= Gmm.mean()+3*Gmm.std())\n",
    "ax[2].hist(Gmm_c, alpha = 0.5 , bins=100, label=\"First Approach - Concatenation\")\n",
    "ax[2].hist(Gmm, alpha = 0.5 , bins=100, label=\"Second Approach - Random Pick\",color =\"r\")\n",
    "ax[2].set_xlim(xmin= Gmm.mean()-3*Gmm.std() , xmax= Gmm.mean()+3*Gmm.std())\n",
    "ax[2].set_title('Hist on Hist comparison',fontsize = 16)\n",
    "ax[2].legend()"
   ]
  },
  {
   "cell_type": "markdown",
   "metadata": {},
   "source": [
    "### Question 4 - Normally distributed salaries"
   ]
  },
  {
   "cell_type": "markdown",
   "metadata": {},
   "source": [
    "The annual salaries of employees in a large Randomistan company are approximateley normally distributed with a mean of 70,000 RCU and a standard deviation of 30,000 RCU."
   ]
  },
  {
   "cell_type": "code",
   "execution_count": 29,
   "metadata": {},
   "outputs": [
    {
     "data": {
      "text/plain": [
       "[<matplotlib.lines.Line2D at 0x1ee830ec850>]"
      ]
     },
     "execution_count": 29,
     "metadata": {},
     "output_type": "execute_result"
    },
    {
     "data": {
      "image/png": "[encoded data removed]",
      "text/plain": [
       "<Figure size 720x360 with 1 Axes>"
      ]
     },
     "metadata": {
      "needs_background": "light"
     },
     "output_type": "display_data"
    }
   ],
   "source": [
    "miu = 70000\n",
    "sigma = 30000\n",
    "x = np.linspace(miu - 3*sigma, miu + 3*sigma, 100)\n",
    "plt.subplots(figsize=(10, 5))\n",
    "plt.plot(x, stats.norm.pdf(x, miu, sigma))"
   ]
  },
  {
   "cell_type": "markdown",
   "metadata": {},
   "source": [
    "#### 4.A\n",
    "What percent of people earn less than 50,000 RCU?"
   ]
  },
  {
   "cell_type": "code",
   "execution_count": 30,
   "metadata": {},
   "outputs": [
    {
     "name": "stdout",
     "output_type": "stream",
     "text": [
      "25.25% of the people, earn less than 50,000 RCU\n"
     ]
    }
   ],
   "source": [
    "print(\"{0:.2f}% of the people, earn less than 50,000 RCU\".format(100*stats.norm.cdf((50000-miu)/sigma, loc=0, scale=1)))\n"
   ]
  },
  {
   "cell_type": "markdown",
   "metadata": {},
   "source": [
    "#### 4.B\n",
    "What percent of people earn between 45,000 RCU and 65,000 RCU?"
   ]
  },
  {
   "cell_type": "code",
   "execution_count": 31,
   "metadata": {},
   "outputs": [
    {
     "name": "stdout",
     "output_type": "stream",
     "text": [
      "23.15% of the people, earn between 45,000 RCU and 65,000 RCU\n"
     ]
    }
   ],
   "source": [
    "z_65 = (65000-miu)/sigma\n",
    "z_45 = (45000-miu)/sigma\n",
    "num= 100*(stats.norm.cdf(z_65, loc=0, scale=1)-stats.norm.cdf(z_45, loc=0, scale=1))\n",
    "print(\"{0:.2f}% of the people, earn between 45,000 RCU and 65,000 RCU\".format(num))"
   ]
  },
  {
   "cell_type": "markdown",
   "metadata": {},
   "source": [
    "#### 4.C\n",
    "What percent of people earn more than 70,000 RCU?"
   ]
  },
  {
   "cell_type": "code",
   "execution_count": 32,
   "metadata": {},
   "outputs": [
    {
     "name": "stdout",
     "output_type": "stream",
     "text": [
      "50.00% of the people, earn more than 70,000 RCU\n"
     ]
    }
   ],
   "source": [
    "100*(1-stats.norm.cdf(0, loc=0, scale=1))\n",
    "print(\"{0:.2f}% of the people, earn more than 70,000 RCU\".format(100*(1-stats.norm.cdf(0, loc=0, scale=1))))"
   ]
  },
  {
   "cell_type": "markdown",
   "metadata": {},
   "source": [
    "#### 4.D\n",
    "The company has 1000 employees. How many employees in the company do you expect to earn more than 140,000 RCU?"
   ]
  },
  {
   "cell_type": "code",
   "execution_count": 33,
   "metadata": {},
   "outputs": [
    {
     "data": {
      "text/plain": [
       "9.0"
      ]
     },
     "execution_count": 33,
     "metadata": {},
     "output_type": "execute_result"
    }
   ],
   "source": [
    "np.floor(1000*(1-stats.norm.cdf((140000-miu)/sigma, loc=0, scale=1)))"
   ]
  },
  {
   "cell_type": "code",
   "execution_count": 34,
   "metadata": {},
   "outputs": [
    {
     "name": "stdout",
     "output_type": "stream",
     "text": [
      "We expect 9 employees to earn more than 140,000 RCU\n"
     ]
    }
   ],
   "source": [
    "print(\"We expect {0:.0f} employees to earn more than 140,000 RCU\".format(np.floor(1000*(1-stats.norm.cdf((140000-miu)/sigma, loc=0, scale=1)))))"
   ]
  },
  {
   "cell_type": "markdown",
   "metadata": {},
   "source": [
    "#### 4.E\n",
    "<span style=\"color:red\"> This question was slightly updated due to a subtlety in the phrasing </span>\n",
    "\n",
    "A survey is performed on employees of the company. **20 groups of 50 employees each are sampled (with replacenets).**\n",
    "What is the probability that more than 10 groups have an average salary between 50,000 RCU and 70,000 RCU?"
   ]
  },
  {
   "cell_type": "code",
   "execution_count": 35,
   "metadata": {
    "scrolled": true
   },
   "outputs": [
    {
     "name": "stdout",
     "output_type": "stream",
     "text": [
      "We get a probability of *0.4119* that more than 10 groups have an average salary between 50,000 RCU and 70,000 RCU \n"
     ]
    }
   ],
   "source": [
    "z_70 = (70000-miu)/(sigma/np.sqrt(50))\n",
    "z_50 = (50000-miu)/(sigma/np.sqrt(50))\n",
    "p_sample = stats.norm.cdf(z_70, loc=0, scale=1)-stats.norm.cdf(z_50, loc=0, scale=1)\n",
    "prob = 1 - stats.binom.cdf(10,20,p_sample)\n",
    "print(\"We get a probability of *{0:.4f}* that more than 10 groups have an average salary between 50,000 RCU and 70,000 RCU \".format(prob))"
   ]
  },
  {
   "cell_type": "markdown",
   "metadata": {},
   "source": [
    "$$P = 0.4119$$"
   ]
  },
  {
   "cell_type": "markdown",
   "metadata": {},
   "source": [
    "### Question 5 - Coupon collector"
   ]
  },
  {
   "cell_type": "markdown",
   "metadata": {},
   "source": [
    "Let $T_{N}$ denote the waiting time for full single coupon collection with N different equiprobable coupon types"
   ]
  },
  {
   "cell_type": "markdown",
   "metadata": {},
   "source": [
    "#### 5.A\n",
    "Write code to compute the exact value of $E(T_{N})$"
   ]
  },
  {
   "cell_type": "markdown",
   "metadata": {},
   "source": [
    "#### 5.A Answer\n",
    "we recall that the time distributes geometrically and As we saw, $\\large p = \\frac{N-i+1}{N}$ and $\\large E(T_N) =\\frac{1}{p} = N\\cdot H_N$ where $H_N$ is the Harmonic series so we'll write a code which computes the harmonic sum"
   ]
  },
  {
   "cell_type": "code",
   "execution_count": 36,
   "metadata": {},
   "outputs": [
    {
     "name": "stdout",
     "output_type": "stream",
     "text": [
      "E(N=2) = 3.0\n"
     ]
    }
   ],
   "source": [
    "def expect_coupon(n):\n",
    "    return sum([1/i for i in range(1,n+1)]) * n\n",
    "print(\"E(N=2) = {0}\".format(expect_coupon(2))) # easy case which the expactation should be equals to 3"
   ]
  },
  {
   "cell_type": "markdown",
   "metadata": {},
   "source": [
    "#### 5.B\n",
    "Write code to compute the exact value of $V(T_{N})$"
   ]
  },
  {
   "cell_type": "markdown",
   "metadata": {},
   "source": [
    "$$V(T_i) = \\frac{1-p}{p^2} = \\frac{1-\\frac{N-i+1}{N}}{(\\frac{N-i+1}{N})^2} = \\frac{\\frac{i-1}{N}}{(\\frac{N-i+1}{N})^2} = N\\cdot \\frac{i-1}{(N-i+1)^2}   $$\n",
    "\n",
    "$$ \\large V(T_N) =N\\cdot \\sum_{i=1}^{N} \\frac{i-1}{(N-i+1)^2}$$\n"
   ]
  },
  {
   "cell_type": "code",
   "execution_count": 37,
   "metadata": {},
   "outputs": [
    {
     "name": "stdout",
     "output_type": "stream",
     "text": [
      "Var(N=2) = 2.0\n"
     ]
    }
   ],
   "source": [
    "def var_coupon(n):\n",
    "    return sum([(i-1)/((n-i+1)**2) for i in range(1,n+1)]) * n\n",
    "print(\"Var(N=2) = {0}\".format(var_coupon(2))) # easy case which the variance should be equals to 2"
   ]
  },
  {
   "cell_type": "markdown",
   "metadata": {},
   "source": [
    "#### 5.C\n",
    "Write code to exactly compute $P(T_{20}>40)$"
   ]
  },
  {
   "cell_type": "code",
   "execution_count": 38,
   "metadata": {},
   "outputs": [
    {
     "name": "stdout",
     "output_type": "stream",
     "text": [
      "P(T_20>40) = 0.9641\n"
     ]
    }
   ],
   "source": [
    "def coupon_calc(N,Z):\n",
    "    p_t = np.array([(N-i+1)/N for i in range(2,21)]) # first value will be a null case 1, we'll skip it\n",
    "    trials = np.arange(1,Z+1)\n",
    "    p_x = np.array([stats.geom.pmf(trials, item) for item in p_t]) #getting the fully probabilities for N for the trials\n",
    "    s = np.zeros(p_x[0].shape); s[0] = 1 #first value represents P(T_1 = 1) which is 1 and the rest are 0\n",
    "    for item in p_x: #apply convolution\n",
    "        s = np.convolve(s,item) \n",
    "    cdf = s[:Z-N +1].sum()\n",
    "    return 1-cdf # we are asked P(T_20 > 40) which is  1 - P(T_20 < 40)\n",
    "print(\"P(T_20>40) = {0:.4f}\".format(coupon_calc(20,40)))  "
   ]
  },
  {
   "cell_type": "markdown",
   "metadata": {},
   "source": [
    "#### 5.D\n",
    "Use Chebicheff to provide a bound for the probability from C and compare the results"
   ]
  },
  {
   "cell_type": "markdown",
   "metadata": {},
   "source": [
    "Tchebysheff's theorem: Suppose X is any random variable with mean $\\mu$ and standard deviation $\\sigma$ then:\n",
    "$$ \\forall b>0 \\rightarrow \\large P(\\mu - b\\sigma \\leq X \\leq \\mu +  b\\sigma)\\geq 1 - \\frac{1}{b^2}$$\n",
    "and we can extract b by absolute value: $$ |\\frac{X-\\mu}{\\sigma}| \\leq b $$"
   ]
  },
  {
   "cell_type": "code",
   "execution_count": 39,
   "metadata": {},
   "outputs": [
    {
     "name": "stdout",
     "output_type": "stream",
     "text": [
      " RV is 40 \n",
      " Mean is 71.955\n",
      " Sigma is 23.801\n",
      " b is 1.343\n"
     ]
    }
   ],
   "source": [
    "X = 40\n",
    "mu = expect_coupon(20)\n",
    "sig = var_coupon(20)**0.5\n",
    "b = np.abs((X-mu)/sig)\n",
    "print(\" RV is {0} \\n Mean is {1:.3f}\\n Sigma is {2:.3f}\\n b is {3:.3f}\".format(X,mu,sig,b))"
   ]
  },
  {
   "cell_type": "code",
   "execution_count": 40,
   "metadata": {},
   "outputs": [
    {
     "name": "stdout",
     "output_type": "stream",
     "text": [
      "Tchebysheff's Bound is: 0.4452\n"
     ]
    }
   ],
   "source": [
    "print(\"Tchebysheff's Bound is: {0:.4f}\".format(1-1/(b**2)))"
   ]
  },
  {
   "cell_type": "markdown",
   "metadata": {},
   "source": [
    "it is shown that Tchebysheff's Bound $P(T_{20} > 40)$ by 0.44 . it is not a tight bound for the calculated result $P(T_{20} > 40) = 0.9641$  and it is as expected because Tchebysheff's theorem is true to any kind of distribution, so it emits a weak lower bound but still  emits a correct one."
   ]
  }
 ],
 "metadata": {
  "kernelspec": {
   "display_name": "Python 3",
   "language": "python",
   "name": "python3"
  },
  "language_info": {
   "codemirror_mode": {
    "name": "ipython",
    "version": 3
   },
   "file_extension": ".py",
   "mimetype": "text/x-python",
   "name": "python",
   "nbconvert_exporter": "python",
   "pygments_lexer": "ipython3",
   "version": "3.8.3"
  }
 },
 "nbformat": 4,
 "nbformat_minor": 2
}
